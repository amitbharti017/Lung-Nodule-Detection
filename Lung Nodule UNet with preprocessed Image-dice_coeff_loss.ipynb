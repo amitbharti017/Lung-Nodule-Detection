{
 "cells": [
  {
   "cell_type": "code",
   "execution_count": 1,
   "id": "8dfe8552",
   "metadata": {},
   "outputs": [],
   "source": [
    "import tensorflow as tf\n",
    "import numpy as np\n",
    "import pandas as pd\n",
    "import matplotlib.pyplot as plt"
   ]
  },
  {
   "cell_type": "code",
   "execution_count": 2,
   "id": "15de1deb",
   "metadata": {
    "scrolled": true
   },
   "outputs": [
    {
     "name": "stderr",
     "output_type": "stream",
     "text": [
      "C:\\ProgramData\\Anaconda3\\envs\\py37\\lib\\site-packages\\tensorflow_addons\\utils\\ensure_tf_install.py:67: UserWarning: Tensorflow Addons supports using Python ops for all Tensorflow versions above or equal to 2.9.0 and strictly below 2.12.0 (nightly versions are not supported). \n",
      " The versions of TensorFlow you are currently using is 2.8.0 and is not supported. \n",
      "Some things might work, some things might not.\n",
      "If you were to encounter a bug, do not file an issue.\n",
      "If you want to make sure you're using a tested and supported configuration, either change the TensorFlow version or the TensorFlow Addons's version. \n",
      "You can find the compatibility matrix in TensorFlow Addon's readme:\n",
      "https://github.com/tensorflow/addons\n",
      "  UserWarning,\n"
     ]
    }
   ],
   "source": [
    "import os\n",
    "import random\n",
    "from tqdm import tqdm\n",
    "import cv2\n",
    "from skimage.io import imread,imshow\n",
    "from skimage.transform import resize\n",
    "from tensorflow.keras import backend as K\n",
    "import tensorflow_addons as tfa\n",
    "from segmentation_"
   ]
  },
  {
   "cell_type": "code",
   "execution_count": 3,
   "id": "c6638dab",
   "metadata": {},
   "outputs": [],
   "source": [
    "TRAIN_PATH = \"dataset/2d_slices/model_training_data/train/\"\n",
    "VALIDATION_PATH = \"dataset/2d_slices/model_training_data/validation/\"\n",
    "TEST_PATH = \"dataset/2d_slices/model_training_data/test/\"\n",
    "TRAIN_MASK_PATH = \"dataset/2d_slices/model_training_data/mask_train/\"\n",
    "VALIDATION_MASK_PATH = \"dataset/2d_slices/model_training_data/mask_validation/\"\n",
    "TEST_MASK_PATH = \"dataset/2d_slices/model_training_data/mask_test/\""
   ]
  },
  {
   "cell_type": "code",
   "execution_count": 4,
   "id": "584e1e1b",
   "metadata": {},
   "outputs": [],
   "source": [
    "train_ids = next(os.walk(TRAIN_PATH))[2]\n",
    "validation_ids =  next(os.walk(VALIDATION_PATH))[2]\n",
    "test_ids =  next(os.walk(TEST_PATH))[2]\n",
    "mask_train_ids = next(os.walk(TRAIN_MASK_PATH))[2]\n",
    "mask_validation_ids =  next(os.walk(VALIDATION_MASK_PATH))[2]\n",
    "mask_test_ids =  next(os.walk(TEST_MASK_PATH))[2]"
   ]
  },
  {
   "cell_type": "code",
   "execution_count": 5,
   "id": "a7489c84",
   "metadata": {},
   "outputs": [],
   "source": [
    "IMG_WIDTH = 512\n",
    "IMG_HEIGHT = 512\n",
    "IMG_CHANNELS = 1"
   ]
  },
  {
   "cell_type": "code",
   "execution_count": 6,
   "id": "7a5e35fe",
   "metadata": {},
   "outputs": [],
   "source": [
    "X_train = np.zeros((len(train_ids),IMG_HEIGHT,IMG_WIDTH,IMG_CHANNELS),dtype=np.uint8)\n",
    "Y_train=np.zeros((len(mask_train_ids),IMG_HEIGHT,IMG_WIDTH,1),dtype = np.float16)"
   ]
  },
  {
   "cell_type": "markdown",
   "id": "d49eba30",
   "metadata": {},
   "source": [
    "### Normalizing the image"
   ]
  },
  {
   "cell_type": "code",
   "execution_count": 7,
   "id": "056ee2f1",
   "metadata": {},
   "outputs": [],
   "source": [
    "# We don't need a big range of voxel values(density HU) for lungs. \"http://radclass.mudr.org/content/hounsfield-units-scale-hu-ct-numbers\""
   ]
  },
  {
   "cell_type": "code",
   "execution_count": 8,
   "id": "4f2fa702",
   "metadata": {},
   "outputs": [],
   "source": [
    "# We make a bonding on voxel values to be inside [-1200.0, 600.0] and if it was out of the bounding, it would be decreased or increased to be equal to 600 or -1200.\n",
    "#Then we will scale values to be inside [0.0, 255.0]."
   ]
  },
  {
   "cell_type": "code",
   "execution_count": 9,
   "id": "4d01771b",
   "metadata": {},
   "outputs": [],
   "source": [
    "def normalize(image):\n",
    "        MIN_BOUND = -1200\n",
    "        MAX_BOUND = 600.\n",
    "        image2 = (image - MIN_BOUND) / (MAX_BOUND - MIN_BOUND)\n",
    "        image2[image2 > 1] = 1.\n",
    "        image2[image2 < 0] = 0.\n",
    "        image2 *= 255.\n",
    "        return image2"
   ]
  },
  {
   "cell_type": "code",
   "execution_count": 10,
   "id": "1a38263f",
   "metadata": {},
   "outputs": [
    {
     "name": "stdout",
     "output_type": "stream",
     "text": [
      "Resizing and normalizing training images and masks\n"
     ]
    }
   ],
   "source": [
    "print(\"Resizing and normalizing training images and masks\")"
   ]
  },
  {
   "cell_type": "code",
   "execution_count": 11,
   "id": "e24775a9",
   "metadata": {},
   "outputs": [
    {
     "name": "stderr",
     "output_type": "stream",
     "text": [
      "100%|████████████████████████████████████████████████████████████████████████████████| 427/427 [02:01<00:00,  3.51it/s]\n"
     ]
    }
   ],
   "source": [
    "for n,id_ in tqdm(enumerate(train_ids),total=len(train_ids)):\n",
    "    path=TRAIN_PATH+id_\n",
    "    imgs = np.load(TRAIN_PATH+id_)\n",
    "    img_normal = normalize(imgs)\n",
    "    img = resize(img_normal,(IMG_HEIGHT,IMG_WIDTH),mode=\"constant\",preserve_range=True)\n",
    "    X_train[n]=np.expand_dims(img, axis=2)\n",
    "    #getting_mask_name\n",
    "    mask_id_split= id_.split(\"images\")[1]\n",
    "    mask_id = (\"masks\"+ mask_id_split)\n",
    "    #print(mask_id)\n",
    "    mask = np.load(TRAIN_MASK_PATH+mask_id)\n",
    "    mask_resize = resize(mask,(IMG_HEIGHT,IMG_WIDTH),mode=\"constant\",preserve_range=True)\n",
    "    Y_train[n] = np.expand_dims(mask_resize, axis=2)"
   ]
  },
  {
   "cell_type": "code",
   "execution_count": 12,
   "id": "114e5565",
   "metadata": {},
   "outputs": [
    {
     "name": "stdout",
     "output_type": "stream",
     "text": [
      "Resizing and normalizing validation images\n"
     ]
    }
   ],
   "source": [
    "X_validation = np.zeros((len(test_ids),IMG_HEIGHT,IMG_WIDTH),dtype=np.uint8)\n",
    "Y_validation=np.zeros((len(mask_train_ids),IMG_HEIGHT,IMG_WIDTH),dtype = np.float16)\n",
    "#sizes_test=[]\n",
    "print(\"Resizing and normalizing validation images\")"
   ]
  },
  {
   "cell_type": "code",
   "execution_count": null,
   "id": "3bcb2748",
   "metadata": {},
   "outputs": [],
   "source": [
    "# c=0\n",
    "# for i,j in enumerate(validation_ids):\n",
    "#     print(i,j)\n",
    "#     c=c+1\n",
    "# print(c)\n"
   ]
  },
  {
   "cell_type": "code",
   "execution_count": null,
   "id": "e5329456",
   "metadata": {},
   "outputs": [],
   "source": [
    "for n,id_ in tqdm(enumerate(validation_ids),total=len(validation_ids)):\n",
    "    path=VALIDATION_PATH+id_\n",
    "    imgs = np.load(VALIDATION_PATH+id_)\n",
    "    img_normal = normalize(imgs)\n",
    "    img = resize(img_normal,(IMG_HEIGHT,IMG_WIDTH),mode=\"constant\",preserve_range=True)\n",
    "    X_validation[n]=img\n",
    "#     #getting_mask_name\n",
    "#     mask_id_split= id_.split(\"images\")[1]\n",
    "#     mask_id = (\"masks\"+ mask_id_split)\n",
    "#     #print(mask_id)\n",
    "#     mask = np.load(VALIDATION_MASK_PATH+mask_id)\n",
    "#     mask_resize = resize(mask,(IMG_HEIGHT,IMG_WIDTH),mode=\"constant\",preserve_range=True)\n",
    "#     Y_validation[n] = mask_resize"
   ]
  },
  {
   "cell_type": "code",
   "execution_count": 13,
   "id": "b57f50bf",
   "metadata": {},
   "outputs": [
    {
     "data": {
      "image/png": "[encoded data removed]",
      "text/plain": [
       "<Figure size 432x288 with 1 Axes>"
      ]
     },
     "metadata": {
      "needs_background": "light"
     },
     "output_type": "display_data"
    },
    {
     "name": "stderr",
     "output_type": "stream",
     "text": [
      "C:\\ProgramData\\Anaconda3\\envs\\py37\\lib\\site-packages\\skimage\\io\\_plugins\\matplotlib_plugin.py:150: UserWarning: Low image data range; displaying image with stretched contrast.\n",
      "  lo, hi, cmap = _get_display_range(image)\n"
     ]
    },
    {
     "data": {
      "image/png": "[encoded data removed]",
      "text/plain": [
       "<Figure size 432x288 with 2 Axes>"
      ]
     },
     "metadata": {
      "needs_background": "light"
     },
     "output_type": "display_data"
    }
   ],
   "source": [
    "#Checking the training data\n",
    "ix=random.randint(0,len(train_ids))\n",
    "imshow(X_train[ix])\n",
    "plt.show()\n",
    "imshow(Y_train[ix])\n",
    "plt.show()"
   ]
  },
  {
   "cell_type": "code",
   "execution_count": 14,
   "id": "45d7cb66",
   "metadata": {},
   "outputs": [],
   "source": [
    "#https://stackoverflow.com/questions/72195156/correct-implementation-of-dice-loss-in-tensorflow-keras\n",
    "def dice_coef(y_true, y_pred, smooth = 100):        \n",
    "    y_true_f = K.flatten(y_true)\n",
    "    y_pred_f = K.flatten(y_pred)\n",
    "    intersection = K.sum(y_true_f * y_pred_f)\n",
    "    dice = (2. * intersection + smooth) / (K.sum(y_true_f) + K.sum(y_pred_f) + smooth)\n",
    "    return dice"
   ]
  },
  {
   "cell_type": "code",
   "execution_count": 14,
   "id": "d11ff0c7",
   "metadata": {},
   "outputs": [],
   "source": [
    "def dice_coef_loss_and_bce(y_true, y_pred):\n",
    "#     dice_loss = 1- dice_coef(y_true, y_pred) \n",
    "#     y_pred = K.clip(y_pred, K.epsilon(), 1 - K.epsilon())\n",
    "#     term_0 = (1 - y_true) * K.log(1 - y_pred + K.epsilon())  \n",
    "#     term_1 = y_true * K.log(y_pred + K.epsilon())\n",
    "#     bce_loss = -K.mean(term_0 + term_1, axis=0)\n",
    "#     mean = 0.5*(dice_loss + bce_loss)\n",
    "    return 1- dice_coef(y_true, y_pred)"
   ]
  },
  {
   "cell_type": "code",
   "execution_count": 15,
   "id": "228f1243",
   "metadata": {},
   "outputs": [],
   "source": [
    "inputs = tf.keras.layers.Input((IMG_WIDTH,IMG_HEIGHT,IMG_CHANNELS))"
   ]
  },
  {
   "cell_type": "code",
   "execution_count": 16,
   "id": "f3b38128",
   "metadata": {},
   "outputs": [],
   "source": [
    "s = tf.keras.layers.Lambda(lambda x:x / 255)(inputs)"
   ]
  },
  {
   "cell_type": "markdown",
   "id": "c9287df9",
   "metadata": {},
   "source": [
    "### Constructing U NET"
   ]
  },
  {
   "cell_type": "code",
   "execution_count": 17,
   "id": "9bb294fa",
   "metadata": {},
   "outputs": [],
   "source": [
    "c1 = tf.keras.layers.Conv2D(16,(3,3),activation=\"relu\",kernel_initializer = \"he_normal\",padding=\"same\")(inputs)\n",
    "c1 = tf.keras.layers.Dropout(0.1)(c1)\n",
    "c1 = tf.keras.layers.Conv2D(16,(3,3),activation=\"relu\",kernel_initializer=\"he_normal\",padding=\"same\")(c1)\n",
    "p1=tf.keras.layers.MaxPooling2D((2,2))(c1)"
   ]
  },
  {
   "cell_type": "code",
   "execution_count": 18,
   "id": "c109c400",
   "metadata": {},
   "outputs": [],
   "source": [
    "c2=tf.keras.layers.Conv2D(32,(3,3),activation=\"relu\",kernel_initializer=\"he_normal\",padding=\"same\")(p1)\n",
    "c2 = tf.keras.layers.Dropout(0.1)(c2)\n",
    "c2=tf.keras.layers.Conv2D(32,(3,3),activation=\"relu\",kernel_initializer=\"he_normal\",padding=\"same\")(c2)\n",
    "p2= tf.keras.layers.MaxPooling2D((2,2))(c2)"
   ]
  },
  {
   "cell_type": "code",
   "execution_count": 19,
   "id": "a9cf5f00",
   "metadata": {},
   "outputs": [],
   "source": [
    "c3=tf.keras.layers.Conv2D(64,(3,3),activation=\"relu\",kernel_initializer=\"he_normal\",padding=\"same\")(p2)\n",
    "c3=tf.keras.layers.Dropout(0.2)(c3)\n",
    "c3=tf.keras.layers.Conv2D(64,(3,3),activation=\"relu\",kernel_initializer=\"he_normal\",padding=\"same\")(c3)\n",
    "p3=tf.keras.layers.MaxPooling2D((2,2))(c3)"
   ]
  },
  {
   "cell_type": "code",
   "execution_count": 20,
   "id": "ce766d90",
   "metadata": {},
   "outputs": [],
   "source": [
    "c4=tf.keras.layers.Conv2D(128,(3,3),activation=\"relu\",kernel_initializer=\"he_normal\",padding=\"same\")(p3)\n",
    "c4=tf.keras.layers.Dropout(0.2)(c4)\n",
    "c4=tf.keras.layers.Conv2D(126,(3,3),activation=\"relu\",kernel_initializer=\"he_normal\",padding=\"same\")(c4)\n",
    "p4=tf.keras.layers.MaxPooling2D((2,2))(c4)"
   ]
  },
  {
   "cell_type": "code",
   "execution_count": 21,
   "id": "b3e48e7b",
   "metadata": {},
   "outputs": [],
   "source": [
    "c5=tf.keras.layers.Conv2D(256,(3,3),activation=\"relu\",kernel_initializer=\"he_normal\",padding=\"same\")(p4)\n",
    "c5=tf.keras.layers.Dropout(0.3)(c5)\n",
    "c5=tf.keras.layers.Conv2D(256,(3,3),activation=\"relu\",kernel_initializer=\"he_normal\",padding=\"same\")(c5)\n",
    "p5=tf.keras.layers.MaxPooling2D((2,2))(c5)"
   ]
  },
  {
   "cell_type": "code",
   "execution_count": 22,
   "id": "d558b9fa",
   "metadata": {},
   "outputs": [],
   "source": [
    "#expansive path"
   ]
  },
  {
   "cell_type": "code",
   "execution_count": 23,
   "id": "75f08b4d",
   "metadata": {},
   "outputs": [],
   "source": [
    "u6 = tf.keras.layers.Conv2DTranspose(128,(2,2),strides=(2,2),padding=\"same\")(c5)\n",
    "u6=tf.keras.layers.concatenate([u6,c4])\n",
    "c6=tf.keras.layers.Conv2D(128,(3,3),activation=\"relu\",kernel_initializer=\"he_normal\",padding=\"same\")(u6)\n",
    "c6=tf.keras.layers.Dropout(0.2)(c6)\n",
    "c6=tf.keras.layers.Conv2D(128,(3,3),activation=\"relu\",kernel_initializer=\"he_normal\",padding=\"same\")(c6)"
   ]
  },
  {
   "cell_type": "code",
   "execution_count": 24,
   "id": "de3dde90",
   "metadata": {},
   "outputs": [],
   "source": [
    "u7=tf.keras.layers.Conv2DTranspose(64,(2,2),strides=(2,2),padding=\"same\")(c6)\n",
    "u7=tf.keras.layers.concatenate([u7,c3])\n",
    "c7=tf.keras.layers.Conv2D(64,(3,3),activation=\"relu\",kernel_initializer=\"he_normal\",padding=\"same\")(u7)\n",
    "c7=tf.keras.layers.Dropout(0.2)(c7)\n",
    "c7=tf.keras.layers.Conv2D(64,(3,3),activation=\"relu\",kernel_initializer=\"he_normal\",padding=\"same\")(c7)"
   ]
  },
  {
   "cell_type": "code",
   "execution_count": 25,
   "id": "94c5a6ec",
   "metadata": {},
   "outputs": [],
   "source": [
    "u8 = tf.keras.layers.Conv2DTranspose(32,(2,2),strides=(2,2),padding=\"same\")(c7)\n",
    "u8=tf.keras.layers.concatenate([u8,c2])\n",
    "c8=tf.keras.layers.Conv2D(32,(3,3),activation=\"relu\",kernel_initializer=\"he_normal\",padding=\"same\")(u8)\n",
    "c8=tf.keras.layers.Dropout(0.1)(c8)\n",
    "c8=tf.keras.layers.Conv2D(32,(3,3),activation=\"relu\",kernel_initializer=\"he_normal\",padding=\"same\")(c8)\n"
   ]
  },
  {
   "cell_type": "code",
   "execution_count": 26,
   "id": "682fd74f",
   "metadata": {},
   "outputs": [],
   "source": [
    "u9=tf.keras.layers.Conv2DTranspose(16,(2,2),strides=(2,2),padding=\"same\")(c8)\n",
    "u9=tf.keras.layers.concatenate([u9,c1],axis=3)\n",
    "c9=tf.keras.layers.Conv2D(16,(3,3),activation=\"relu\",kernel_initializer=\"he_normal\",padding=\"same\")(u9)\n",
    "c9=tf.keras.layers.Dropout(0.1)(c9)\n",
    "c9=tf.keras.layers.Conv2D(16,(3,3),activation=\"relu\",kernel_initializer=\"he_normal\",padding=\"same\")(c9)\n"
   ]
  },
  {
   "cell_type": "code",
   "execution_count": 27,
   "id": "a773c995",
   "metadata": {},
   "outputs": [],
   "source": [
    "outputs=tf.keras.layers.Conv2D(1,(1,1),activation=\"sigmoid\")(c9)"
   ]
  },
  {
   "cell_type": "code",
   "execution_count": 28,
   "id": "ebcfa865",
   "metadata": {},
   "outputs": [
    {
     "name": "stdout",
     "output_type": "stream",
     "text": [
      "Model: \"model\"\n",
      "__________________________________________________________________________________________________\n",
      " Layer (type)                   Output Shape         Param #     Connected to                     \n",
      "==================================================================================================\n",
      " input_1 (InputLayer)           [(None, 512, 512, 1  0           []                               \n",
      "                                )]                                                                \n",
      "                                                                                                  \n",
      " conv2d (Conv2D)                (None, 512, 512, 16  160         ['input_1[0][0]']                \n",
      "                                )                                                                 \n",
      "                                                                                                  \n",
      " dropout (Dropout)              (None, 512, 512, 16  0           ['conv2d[0][0]']                 \n",
      "                                )                                                                 \n",
      "                                                                                                  \n",
      " conv2d_1 (Conv2D)              (None, 512, 512, 16  2320        ['dropout[0][0]']                \n",
      "                                )                                                                 \n",
      "                                                                                                  \n",
      " max_pooling2d (MaxPooling2D)   (None, 256, 256, 16  0           ['conv2d_1[0][0]']               \n",
      "                                )                                                                 \n",
      "                                                                                                  \n",
      " conv2d_2 (Conv2D)              (None, 256, 256, 32  4640        ['max_pooling2d[0][0]']          \n",
      "                                )                                                                 \n",
      "                                                                                                  \n",
      " dropout_1 (Dropout)            (None, 256, 256, 32  0           ['conv2d_2[0][0]']               \n",
      "                                )                                                                 \n",
      "                                                                                                  \n",
      " conv2d_3 (Conv2D)              (None, 256, 256, 32  9248        ['dropout_1[0][0]']              \n",
      "                                )                                                                 \n",
      "                                                                                                  \n",
      " max_pooling2d_1 (MaxPooling2D)  (None, 128, 128, 32  0          ['conv2d_3[0][0]']               \n",
      "                                )                                                                 \n",
      "                                                                                                  \n",
      " conv2d_4 (Conv2D)              (None, 128, 128, 64  18496       ['max_pooling2d_1[0][0]']        \n",
      "                                )                                                                 \n",
      "                                                                                                  \n",
      " dropout_2 (Dropout)            (None, 128, 128, 64  0           ['conv2d_4[0][0]']               \n",
      "                                )                                                                 \n",
      "                                                                                                  \n",
      " conv2d_5 (Conv2D)              (None, 128, 128, 64  36928       ['dropout_2[0][0]']              \n",
      "                                )                                                                 \n",
      "                                                                                                  \n",
      " max_pooling2d_2 (MaxPooling2D)  (None, 64, 64, 64)  0           ['conv2d_5[0][0]']               \n",
      "                                                                                                  \n",
      " conv2d_6 (Conv2D)              (None, 64, 64, 128)  73856       ['max_pooling2d_2[0][0]']        \n",
      "                                                                                                  \n",
      " dropout_3 (Dropout)            (None, 64, 64, 128)  0           ['conv2d_6[0][0]']               \n",
      "                                                                                                  \n",
      " conv2d_7 (Conv2D)              (None, 64, 64, 126)  145278      ['dropout_3[0][0]']              \n",
      "                                                                                                  \n",
      " max_pooling2d_3 (MaxPooling2D)  (None, 32, 32, 126)  0          ['conv2d_7[0][0]']               \n",
      "                                                                                                  \n",
      " conv2d_8 (Conv2D)              (None, 32, 32, 256)  290560      ['max_pooling2d_3[0][0]']        \n",
      "                                                                                                  \n",
      " dropout_4 (Dropout)            (None, 32, 32, 256)  0           ['conv2d_8[0][0]']               \n",
      "                                                                                                  \n",
      " conv2d_9 (Conv2D)              (None, 32, 32, 256)  590080      ['dropout_4[0][0]']              \n",
      "                                                                                                  \n",
      " conv2d_transpose (Conv2DTransp  (None, 64, 64, 128)  131200     ['conv2d_9[0][0]']               \n",
      " ose)                                                                                             \n",
      "                                                                                                  \n",
      " concatenate (Concatenate)      (None, 64, 64, 254)  0           ['conv2d_transpose[0][0]',       \n",
      "                                                                  'conv2d_7[0][0]']               \n",
      "                                                                                                  \n",
      " conv2d_10 (Conv2D)             (None, 64, 64, 128)  292736      ['concatenate[0][0]']            \n",
      "                                                                                                  \n",
      " dropout_5 (Dropout)            (None, 64, 64, 128)  0           ['conv2d_10[0][0]']              \n",
      "                                                                                                  \n",
      " conv2d_11 (Conv2D)             (None, 64, 64, 128)  147584      ['dropout_5[0][0]']              \n",
      "                                                                                                  \n",
      " conv2d_transpose_1 (Conv2DTran  (None, 128, 128, 64  32832      ['conv2d_11[0][0]']              \n",
      " spose)                         )                                                                 \n",
      "                                                                                                  \n",
      " concatenate_1 (Concatenate)    (None, 128, 128, 12  0           ['conv2d_transpose_1[0][0]',     \n",
      "                                8)                                'conv2d_5[0][0]']               \n",
      "                                                                                                  \n",
      " conv2d_12 (Conv2D)             (None, 128, 128, 64  73792       ['concatenate_1[0][0]']          \n",
      "                                )                                                                 \n",
      "                                                                                                  \n",
      " dropout_6 (Dropout)            (None, 128, 128, 64  0           ['conv2d_12[0][0]']              \n",
      "                                )                                                                 \n",
      "                                                                                                  \n",
      " conv2d_13 (Conv2D)             (None, 128, 128, 64  36928       ['dropout_6[0][0]']              \n",
      "                                )                                                                 \n",
      "                                                                                                  \n",
      " conv2d_transpose_2 (Conv2DTran  (None, 256, 256, 32  8224       ['conv2d_13[0][0]']              \n"
     ]
    },
    {
     "name": "stdout",
     "output_type": "stream",
     "text": [
      " spose)                         )                                                                 \n",
      "                                                                                                  \n",
      " concatenate_2 (Concatenate)    (None, 256, 256, 64  0           ['conv2d_transpose_2[0][0]',     \n",
      "                                )                                 'conv2d_3[0][0]']               \n",
      "                                                                                                  \n",
      " conv2d_14 (Conv2D)             (None, 256, 256, 32  18464       ['concatenate_2[0][0]']          \n",
      "                                )                                                                 \n",
      "                                                                                                  \n",
      " dropout_7 (Dropout)            (None, 256, 256, 32  0           ['conv2d_14[0][0]']              \n",
      "                                )                                                                 \n",
      "                                                                                                  \n",
      " conv2d_15 (Conv2D)             (None, 256, 256, 32  9248        ['dropout_7[0][0]']              \n",
      "                                )                                                                 \n",
      "                                                                                                  \n",
      " conv2d_transpose_3 (Conv2DTran  (None, 512, 512, 16  2064       ['conv2d_15[0][0]']              \n",
      " spose)                         )                                                                 \n",
      "                                                                                                  \n",
      " concatenate_3 (Concatenate)    (None, 512, 512, 32  0           ['conv2d_transpose_3[0][0]',     \n",
      "                                )                                 'conv2d_1[0][0]']               \n",
      "                                                                                                  \n",
      " conv2d_16 (Conv2D)             (None, 512, 512, 16  4624        ['concatenate_3[0][0]']          \n",
      "                                )                                                                 \n",
      "                                                                                                  \n",
      " dropout_8 (Dropout)            (None, 512, 512, 16  0           ['conv2d_16[0][0]']              \n",
      "                                )                                                                 \n",
      "                                                                                                  \n",
      " conv2d_17 (Conv2D)             (None, 512, 512, 16  2320        ['dropout_8[0][0]']              \n",
      "                                )                                                                 \n",
      "                                                                                                  \n",
      " conv2d_18 (Conv2D)             (None, 512, 512, 1)  17          ['conv2d_17[0][0]']              \n",
      "                                                                                                  \n",
      "==================================================================================================\n",
      "Total params: 1,931,599\n",
      "Trainable params: 1,931,599\n",
      "Non-trainable params: 0\n",
      "__________________________________________________________________________________________________\n"
     ]
    }
   ],
   "source": [
    "#https://towardsdatascience.com/dealing-with-class-imbalanced-image-datasets-1cbd17de76b5\n",
    "model_unet=tf.keras.Model(inputs=[inputs],outputs=[outputs])\n",
    "model_unet.compile(optimizer=\"adam\",loss=dice_coef_loss_and_bce,metrics=[dice_coef])\n",
    "model_unet.summary()"
   ]
  },
  {
   "cell_type": "code",
   "execution_count": 29,
   "id": "0ba86f93",
   "metadata": {},
   "outputs": [],
   "source": [
    "checkpointer= tf.keras.callbacks.ModelCheckpoint(\"model_for_nodule.h5\",verbose=1,save_best_only=True)"
   ]
  },
  {
   "cell_type": "code",
   "execution_count": 30,
   "id": "46a6e37e",
   "metadata": {},
   "outputs": [],
   "source": [
    "callbacks=[\n",
    "    tf.keras.callbacks.EarlyStopping(patience=10,monitor=\"val_dice_coef\"),\n",
    "    tf.keras.callbacks.TensorBoard(log_dir=\"logs\"),\n",
    "    checkpointer\n",
    "]"
   ]
  },
  {
   "cell_type": "code",
   "execution_count": 31,
   "id": "eb27224e",
   "metadata": {},
   "outputs": [
    {
     "name": "stdout",
     "output_type": "stream",
     "text": [
      "Epoch 1/100\n",
      "96/96 [==============================] - ETA: 0s - loss: 0.9387 - dice_coef: 0.0613\n",
      "Epoch 1: val_loss improved from inf to 0.92572, saving model to model_for_nodule.h5\n",
      "96/96 [==============================] - 410s 4s/step - loss: 0.9387 - dice_coef: 0.0613 - val_loss: 0.9257 - val_dice_coef: 0.0731\n",
      "Epoch 2/100\n",
      "96/96 [==============================] - ETA: 0s - loss: 0.9317 - dice_coef: 0.0683\n",
      "Epoch 2: val_loss did not improve from 0.92572\n",
      "96/96 [==============================] - 456s 5s/step - loss: 0.9317 - dice_coef: 0.0683 - val_loss: 0.9257 - val_dice_coef: 0.0731\n",
      "Epoch 3/100\n",
      "96/96 [==============================] - ETA: 0s - loss: 0.9334 - dice_coef: 0.0666\n",
      "Epoch 3: val_loss did not improve from 0.92572\n",
      "96/96 [==============================] - 463s 5s/step - loss: 0.9334 - dice_coef: 0.0666 - val_loss: 0.9257 - val_dice_coef: 0.0731\n",
      "Epoch 4/100\n",
      "96/96 [==============================] - ETA: 0s - loss: 0.9290 - dice_coef: 0.0710\n",
      "Epoch 4: val_loss did not improve from 0.92572\n",
      "96/96 [==============================] - 459s 5s/step - loss: 0.9290 - dice_coef: 0.0710 - val_loss: 0.9257 - val_dice_coef: 0.0731\n",
      "Epoch 5/100\n",
      "96/96 [==============================] - ETA: 0s - loss: 0.9347 - dice_coef: 0.0653\n",
      "Epoch 5: val_loss did not improve from 0.92572\n",
      "96/96 [==============================] - 459s 5s/step - loss: 0.9347 - dice_coef: 0.0653 - val_loss: 0.9257 - val_dice_coef: 0.0731\n",
      "Epoch 6/100\n",
      "96/96 [==============================] - ETA: 0s - loss: 0.9311 - dice_coef: 0.0689\n",
      "Epoch 6: val_loss did not improve from 0.92572\n",
      "96/96 [==============================] - 464s 5s/step - loss: 0.9311 - dice_coef: 0.0689 - val_loss: 0.9257 - val_dice_coef: 0.0731\n",
      "Epoch 7/100\n",
      "96/96 [==============================] - ETA: 0s - loss: 0.9339 - dice_coef: 0.0661\n",
      "Epoch 7: val_loss did not improve from 0.92572\n",
      "96/96 [==============================] - 467s 5s/step - loss: 0.9339 - dice_coef: 0.0661 - val_loss: 0.9257 - val_dice_coef: 0.0731\n",
      "Epoch 8/100\n",
      "96/96 [==============================] - ETA: 0s - loss: 0.9328 - dice_coef: 0.0672\n",
      "Epoch 8: val_loss did not improve from 0.92572\n",
      "96/96 [==============================] - 452s 5s/step - loss: 0.9328 - dice_coef: 0.0672 - val_loss: 0.9257 - val_dice_coef: 0.0731\n",
      "Epoch 9/100\n",
      "96/96 [==============================] - ETA: 0s - loss: 0.9315 - dice_coef: 0.0685\n",
      "Epoch 9: val_loss did not improve from 0.92572\n",
      "96/96 [==============================] - 469s 5s/step - loss: 0.9315 - dice_coef: 0.0685 - val_loss: 0.9257 - val_dice_coef: 0.0731\n",
      "Epoch 10/100\n",
      "96/96 [==============================] - ETA: 0s - loss: 0.9326 - dice_coef: 0.0674\n",
      "Epoch 10: val_loss did not improve from 0.92572\n",
      "96/96 [==============================] - 467s 5s/step - loss: 0.9326 - dice_coef: 0.0674 - val_loss: 0.9257 - val_dice_coef: 0.0731\n",
      "Epoch 11/100\n",
      "96/96 [==============================] - ETA: 0s - loss: 0.9276 - dice_coef: 0.0724\n",
      "Epoch 11: val_loss did not improve from 0.92572\n",
      "96/96 [==============================] - 466s 5s/step - loss: 0.9276 - dice_coef: 0.0724 - val_loss: 0.9257 - val_dice_coef: 0.0731\n"
     ]
    }
   ],
   "source": [
    " results = model_unet.fit(X_train,Y_train,validation_split=0.1,batch_size=4,epochs=100,callbacks=callbacks )"
   ]
  },
  {
   "cell_type": "markdown",
   "id": "e87eab47",
   "metadata": {},
   "source": [
    "#### Checking the model on random images"
   ]
  },
  {
   "cell_type": "code",
   "execution_count": 32,
   "id": "29ddc010",
   "metadata": {},
   "outputs": [],
   "source": [
    "idx = random.randint(0,len(X_train))"
   ]
  },
  {
   "cell_type": "code",
   "execution_count": 33,
   "id": "dd133f30",
   "metadata": {},
   "outputs": [
    {
     "name": "stdout",
     "output_type": "stream",
     "text": [
      "12/12 [==============================] - 69s 6s/step\n",
      "2/2 [==============================] - 13s 3s/step\n"
     ]
    }
   ],
   "source": [
    "preds_train = model_unet.predict(X_train[:int(X_train.shape[0]*0.9)],verbose=1)\n",
    "preds_val = model_unet.predict(X_train[int(X_train.shape[0]*0.9):],verbose=1)\n",
    "#preds_test=model_unet.predict(X_t,verbose=1)"
   ]
  },
  {
   "cell_type": "code",
   "execution_count": null,
   "id": "787db929",
   "metadata": {},
   "outputs": [],
   "source": [
    "#Each pixel is given a value between 0 and 1. We set a threshold 0.5 to binarize using thresholding"
   ]
  },
  {
   "cell_type": "code",
   "execution_count": null,
   "id": "ea97cdf8",
   "metadata": {},
   "outputs": [],
   "source": [
    "preds_train_t = (preds_train >0.6).astype(np.uint8)\n",
    "preds_val_t = (preds_val>0.6).astype(np.uint8)\n",
    "#preds_test_t = (preds_test>0.6).astype(np.uint8)"
   ]
  },
  {
   "cell_type": "code",
   "execution_count": null,
   "id": "e1d1faac",
   "metadata": {},
   "outputs": [],
   "source": [
    "#Checking"
   ]
  },
  {
   "cell_type": "code",
   "execution_count": null,
   "id": "3defa54b",
   "metadata": {},
   "outputs": [],
   "source": [
    "ix = random.randint(0,len(preds_train_t))\n",
    "imshow(X_train[ix])\n",
    "plt.show()\n",
    "imshow(Y_train[ix])\n",
    "plt.show()\n",
    "imshow(preds_train_t[ix])\n",
    "plt.show()"
   ]
  },
  {
   "cell_type": "code",
   "execution_count": null,
   "id": "810b7658",
   "metadata": {},
   "outputs": [],
   "source": []
  }
 ],
 "metadata": {
  "kernelspec": {
   "display_name": "Python 3 (ipykernel)",
   "language": "python",
   "name": "python3"
  },
  "language_info": {
   "codemirror_mode": {
    "name": "ipython",
    "version": 3
   },
   "file_extension": ".py",
   "mimetype": "text/x-python",
   "name": "python",
   "nbconvert_exporter": "python",
   "pygments_lexer": "ipython3",
   "version": "3.7.11"
  }
 },
 "nbformat": 4,
 "nbformat_minor": 5
}
