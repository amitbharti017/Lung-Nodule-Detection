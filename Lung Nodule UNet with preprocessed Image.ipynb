{
 "cells": [
  {
   "cell_type": "code",
   "execution_count": 1,
   "id": "8dfe8552",
   "metadata": {},
   "outputs": [],
   "source": [
    "import tensorflow as tf\n",
    "import numpy as np\n",
    "import pandas as pd\n",
    "import matplotlib.pyplot as plt"
   ]
  },
  {
   "cell_type": "code",
   "execution_count": 2,
   "id": "15de1deb",
   "metadata": {},
   "outputs": [],
   "source": [
    "import os\n",
    "import random\n",
    "from tqdm import tqdm\n",
    "import cv2\n",
    "from skimage.io import imread,imshow\n",
    "from skimage.transform import resize\n",
    "from tensorflow.keras import backend as K"
   ]
  },
  {
   "cell_type": "code",
   "execution_count": 3,
   "id": "7b9ae9ad",
   "metadata": {},
   "outputs": [],
   "source": [
    "seed = 42\n",
    "np.random.seed = seed"
   ]
  },
  {
   "cell_type": "code",
   "execution_count": 4,
   "id": "c6638dab",
   "metadata": {},
   "outputs": [],
   "source": [
    "TRAIN_PATH = \"dataset/2d_slices/model_training_data/train/\"\n",
    "VALIDATION_PATH = \"dataset/2d_slices/model_training_data/validation/\"\n",
    "TEST_PATH = \"dataset/2d_slices/model_training_data/test/\"\n",
    "TRAIN_MASK_PATH = \"dataset/2d_slices/model_training_data/mask_train/\"\n",
    "VALIDATION_MASK_PATH = \"dataset/2d_slices/model_training_data/mask_validation/\"\n",
    "TEST_MASK_PATH = \"dataset/2d_slices/model_training_data/mask_test/\""
   ]
  },
  {
   "cell_type": "code",
   "execution_count": 5,
   "id": "584e1e1b",
   "metadata": {},
   "outputs": [],
   "source": [
    "train_ids = next(os.walk(TRAIN_PATH))[2]\n",
    "validation_ids =  next(os.walk(VALIDATION_PATH))[2]\n",
    "test_ids =  next(os.walk(TEST_PATH))[2]\n",
    "mask_train_ids = next(os.walk(TRAIN_MASK_PATH))[2]\n",
    "mask_validation_ids =  next(os.walk(VALIDATION_MASK_PATH))[2]\n",
    "mask_test_ids =  next(os.walk(TEST_MASK_PATH))[2]"
   ]
  },
  {
   "cell_type": "code",
   "execution_count": 6,
   "id": "a7489c84",
   "metadata": {},
   "outputs": [],
   "source": [
    "IMG_WIDTH = 512\n",
    "IMG_HEIGHT = 512\n",
    "IMG_CHANNELS = 1"
   ]
  },
  {
   "cell_type": "code",
   "execution_count": 7,
   "id": "7a5e35fe",
   "metadata": {},
   "outputs": [],
   "source": [
    "X_train = np.zeros((len(train_ids),IMG_HEIGHT,IMG_WIDTH,IMG_CHANNELS),dtype=np.uint8)\n",
    "Y_train=np.zeros((len(mask_train_ids),IMG_HEIGHT,IMG_WIDTH,1),dtype = np.uint8)"
   ]
  },
  {
   "cell_type": "markdown",
   "id": "8c8b8375",
   "metadata": {},
   "source": [
    "### Normalizing the image"
   ]
  },
  {
   "cell_type": "code",
   "execution_count": 8,
   "id": "76828b03",
   "metadata": {},
   "outputs": [],
   "source": [
    "# We don't need a big range of voxel values(density HU) for lungs. \"http://radclass.mudr.org/content/hounsfield-units-scale-hu-ct-numbers\""
   ]
  },
  {
   "cell_type": "code",
   "execution_count": 9,
   "id": "f15e9650",
   "metadata": {},
   "outputs": [],
   "source": [
    "# We make a bonding on voxel values to be inside [-1200.0, 600.0] and if it was out of the bounding, it would be decreased or increased to be equal to 600 or -1200.\n",
    "#Then we will scale values to be inside [0.0, 255.0]."
   ]
  },
  {
   "cell_type": "code",
   "execution_count": 10,
   "id": "5413c5a2",
   "metadata": {},
   "outputs": [],
   "source": [
    "def normalize(image):\n",
    "        MIN_BOUND = -1200\n",
    "        MAX_BOUND = 600.\n",
    "        image2 = (image - MIN_BOUND) / (MAX_BOUND - MIN_BOUND)\n",
    "        image2[image2 > 1] = 1.\n",
    "        image2[image2 < 0] = 0.\n",
    "        image2 *= 255.\n",
    "        return image2"
   ]
  },
  {
   "cell_type": "code",
   "execution_count": 11,
   "id": "1a38263f",
   "metadata": {},
   "outputs": [
    {
     "name": "stdout",
     "output_type": "stream",
     "text": [
      "Resizing and normalizing training images and masks\n"
     ]
    }
   ],
   "source": [
    "print(\"Resizing and normalizing training images and masks\")"
   ]
  },
  {
   "cell_type": "code",
   "execution_count": 12,
   "id": "e24775a9",
   "metadata": {},
   "outputs": [
    {
     "name": "stderr",
     "output_type": "stream",
     "text": [
      "100%|████████████████████████████████████████████████████████████████████████████████| 427/427 [00:15<00:00, 27.93it/s]\n"
     ]
    }
   ],
   "source": [
    "for n,id_ in tqdm(enumerate(train_ids),total=len(train_ids)):\n",
    "    path=TRAIN_PATH+id_\n",
    "    imgs = np.load(TRAIN_PATH+id_)\n",
    "    img_normal = normalize(imgs)\n",
    "    img = resize(img_normal,(IMG_HEIGHT,IMG_WIDTH),mode=\"constant\",preserve_range=True)\n",
    "    X_train[n]=np.expand_dims(img, axis=2)\n",
    "    #getting_mask_name\n",
    "    mask_id_split= id_.split(\"images\")[1]\n",
    "    mask_id = (\"masks\"+ mask_id_split)\n",
    "    #print(mask_id)\n",
    "    mask = np.load(TRAIN_MASK_PATH+mask_id)\n",
    "    mask_resize = resize(mask,(IMG_HEIGHT,IMG_WIDTH),mode=\"constant\",preserve_range=True)\n",
    "    Y_train[n] = np.expand_dims(mask_resize, axis=2)"
   ]
  },
  {
   "cell_type": "code",
   "execution_count": 13,
   "id": "114e5565",
   "metadata": {},
   "outputs": [
    {
     "name": "stdout",
     "output_type": "stream",
     "text": [
      "Resizing and normalizing validation images\n"
     ]
    }
   ],
   "source": [
    "X_validation = np.zeros((len(test_ids),IMG_HEIGHT,IMG_WIDTH),dtype=np.uint8)\n",
    "Y_validation=np.zeros((len(mask_train_ids),IMG_HEIGHT,IMG_WIDTH),dtype = np.uint8)\n",
    "#sizes_test=[]\n",
    "print(\"Resizing and normalizing validation images\")"
   ]
  },
  {
   "cell_type": "code",
   "execution_count": 14,
   "id": "008a25aa",
   "metadata": {},
   "outputs": [
    {
     "name": "stdout",
     "output_type": "stream",
     "text": [
      "0 images_1.3.6.1.4.1.14519.5.2.1.6279.6001.309672797925724868457151381131_144.npy\n",
      "1 images_1.3.6.1.4.1.14519.5.2.1.6279.6001.310395752124284049604069960014_40.npy\n",
      "2 images_1.3.6.1.4.1.14519.5.2.1.6279.6001.310395752124284049604069960014_49.npy\n",
      "3 images_1.3.6.1.4.1.14519.5.2.1.6279.6001.310395752124284049604069960014_72.npy\n",
      "4 images_1.3.6.1.4.1.14519.5.2.1.6279.6001.310548927038333190233889983845_109.npy\n",
      "5 images_1.3.6.1.4.1.14519.5.2.1.6279.6001.312704771348460502013249647868_109.npy\n",
      "6 images_1.3.6.1.4.1.14519.5.2.1.6279.6001.312704771348460502013249647868_146.npy\n",
      "7 images_1.3.6.1.4.1.14519.5.2.1.6279.6001.312704771348460502013249647868_177.npy\n",
      "8 images_1.3.6.1.4.1.14519.5.2.1.6279.6001.313283554967554803238484128406_34.npy\n",
      "9 images_1.3.6.1.4.1.14519.5.2.1.6279.6001.313283554967554803238484128406_83.npy\n",
      "10 images_1.3.6.1.4.1.14519.5.2.1.6279.6001.313283554967554803238484128406_98.npy\n",
      "11 images_1.3.6.1.4.1.14519.5.2.1.6279.6001.313334055029671473836954456733_33.npy\n",
      "12 images_1.3.6.1.4.1.14519.5.2.1.6279.6001.313605260055394498989743099991_73.npy\n",
      "13 images_1.3.6.1.4.1.14519.5.2.1.6279.6001.313835996725364342034830119490_376.npy\n",
      "14 images_1.3.6.1.4.1.14519.5.2.1.6279.6001.314789075871001236641548593165_148.npy\n",
      "15 images_1.3.6.1.4.1.14519.5.2.1.6279.6001.315214756157389122376518747372_191.npy\n",
      "16 images_1.3.6.1.4.1.14519.5.2.1.6279.6001.317087518531899043292346860596_215.npy\n",
      "17 images_1.3.6.1.4.1.14519.5.2.1.6279.6001.319066480138812986026181758474_118.npy\n",
      "18 images_1.3.6.1.4.1.14519.5.2.1.6279.6001.319066480138812986026181758474_97.npy\n",
      "19 images_1.3.6.1.4.1.14519.5.2.1.6279.6001.320111824803959660037459294083_60.npy\n",
      "20 images_1.3.6.1.4.1.14519.5.2.1.6279.6001.321465552859463184018938648244_113.npy\n",
      "21 images_1.3.6.1.4.1.14519.5.2.1.6279.6001.323302986710576400812869264321_84.npy\n",
      "22 images_1.3.6.1.4.1.14519.5.2.1.6279.6001.323541312620128092852212458228_76.npy\n",
      "23 images_1.3.6.1.4.1.14519.5.2.1.6279.6001.323753921818102744511069914832_51.npy\n",
      "24 images_1.3.6.1.4.1.14519.5.2.1.6279.6001.323753921818102744511069914832_72.npy\n",
      "25 images_1.3.6.1.4.1.14519.5.2.1.6279.6001.323859712968543712594665815359_184.npy\n",
      "26 images_1.3.6.1.4.1.14519.5.2.1.6279.6001.323859712968543712594665815359_212.npy\n",
      "27 images_1.3.6.1.4.1.14519.5.2.1.6279.6001.324290109423920971676288828329_185.npy\n",
      "28 images_1.3.6.1.4.1.14519.5.2.1.6279.6001.324290109423920971676288828329_201.npy\n",
      "29 images_1.3.6.1.4.1.14519.5.2.1.6279.6001.324290109423920971676288828329_210.npy\n",
      "30 images_1.3.6.1.4.1.14519.5.2.1.6279.6001.324290109423920971676288828329_215.npy\n",
      "31 images_1.3.6.1.4.1.14519.5.2.1.6279.6001.324567010179873305471925391582_105.npy\n",
      "32 images_1.3.6.1.4.1.14519.5.2.1.6279.6001.324567010179873305471925391582_214.npy\n",
      "33 images_1.3.6.1.4.1.14519.5.2.1.6279.6001.324567010179873305471925391582_266.npy\n",
      "34 images_1.3.6.1.4.1.14519.5.2.1.6279.6001.325164338773720548739146851679_305.npy\n",
      "35 images_1.3.6.1.4.1.14519.5.2.1.6279.6001.325164338773720548739146851679_380.npy\n",
      "36 images_1.3.6.1.4.1.14519.5.2.1.6279.6001.326057189095429101398977448288_210.npy\n",
      "37 images_1.3.6.1.4.1.14519.5.2.1.6279.6001.326057189095429101398977448288_248.npy\n",
      "38 images_1.3.6.1.4.1.14519.5.2.1.6279.6001.326057189095429101398977448288_269.npy\n",
      "39 images_1.3.6.1.4.1.14519.5.2.1.6279.6001.326057189095429101398977448288_276.npy\n",
      "40 images_1.3.6.1.4.1.14519.5.2.1.6279.6001.326057189095429101398977448288_286.npy\n",
      "41 images_1.3.6.1.4.1.14519.5.2.1.6279.6001.326057189095429101398977448288_289.npy\n",
      "42 images_1.3.6.1.4.1.14519.5.2.1.6279.6001.333145094436144085379032922488_61.npy\n",
      "43 images_1.3.6.1.4.1.14519.5.2.1.6279.6001.334105754605642100456249422350_102.npy\n",
      "44 images_1.3.6.1.4.1.14519.5.2.1.6279.6001.334517907433161353885866806005_141.npy\n",
      "45 images_1.3.6.1.4.1.14519.5.2.1.6279.6001.334517907433161353885866806005_145.npy\n",
      "46 images_1.3.6.1.4.1.14519.5.2.1.6279.6001.334517907433161353885866806005_196.npy\n",
      "47 images_1.3.6.1.4.1.14519.5.2.1.6279.6001.336225579776978874775723463327_41.npy\n",
      "48 images_1.3.6.1.4.1.14519.5.2.1.6279.6001.336894364358709782463716339027_290.npy\n",
      "49 images_1.3.6.1.4.1.14519.5.2.1.6279.6001.337845202462615014431060697507_109.npy\n",
      "50 images_1.3.6.1.4.1.14519.5.2.1.6279.6001.339142594937666268384335506819_82.npy\n",
      "51 images_1.3.6.1.4.1.14519.5.2.1.6279.6001.339546614783708685476232944897_80.npy\n",
      "52 images_1.3.6.1.4.1.14519.5.2.1.6279.6001.367204840301639918160517361062_88.npy\n",
      "53 images_1.3.6.1.4.1.14519.5.2.1.6279.6001.390513733720659266816639651938_209.npy\n",
      "54 images_1.3.6.1.4.1.14519.5.2.1.6279.6001.395623571499047043765181005112_78.npy\n",
      "55 images_1.3.6.1.4.1.14519.5.2.1.6279.6001.401389720232123950202941034290_111.npy\n",
      "56 images_1.3.6.1.4.1.14519.5.2.1.6279.6001.404364125369979066736354549484_69.npy\n",
      "57 images_1.3.6.1.4.1.14519.5.2.1.6279.6001.404768898286087278137462774930_82.npy\n",
      "58 images_1.3.6.1.4.1.14519.5.2.1.6279.6001.417815314896088956784723476543_228.npy\n",
      "59 images_1.3.6.1.4.1.14519.5.2.1.6279.6001.419601611032172899567156073142_121.npy\n",
      "60 images_1.3.6.1.4.1.14519.5.2.1.6279.6001.430109407146633213496148200410_449.npy\n",
      "61 images_1.3.6.1.4.1.14519.5.2.1.6279.6001.430109407146633213496148200410_584.npy\n",
      "62 images_1.3.6.1.4.1.14519.5.2.1.6279.6001.430109407146633213496148200410_663.npy\n",
      "63 images_1.3.6.1.4.1.14519.5.2.1.6279.6001.438308540025607517017949816111_69.npy\n",
      "64 images_1.3.6.1.4.1.14519.5.2.1.6279.6001.438308540025607517017949816111_79.npy\n",
      "65 images_1.3.6.1.4.1.14519.5.2.1.6279.6001.443400977949406454649939526179_125.npy\n",
      "66 images_1.3.6.1.4.1.14519.5.2.1.6279.6001.443400977949406454649939526179_165.npy\n",
      "67 images_1.3.6.1.4.1.14519.5.2.1.6279.6001.450501966058662668272378865145_109.npy\n",
      "68 images_1.3.6.1.4.1.14519.5.2.1.6279.6001.450501966058662668272378865145_69.npy\n",
      "69 images_1.3.6.1.4.1.14519.5.2.1.6279.6001.458525794434429386945463560826_452.npy\n",
      "70 images_1.3.6.1.4.1.14519.5.2.1.6279.6001.461155505515403114280165935891_113.npy\n",
      "71 images_1.3.6.1.4.1.14519.5.2.1.6279.6001.463214953282361219537913355115_40.npy\n",
      "72 images_1.3.6.1.4.1.14519.5.2.1.6279.6001.466284753932369813717081722101_189.npy\n",
      "73 images_1.3.6.1.4.1.14519.5.2.1.6279.6001.479402560265137632920333093071_130.npy\n",
      "74 images_1.3.6.1.4.1.14519.5.2.1.6279.6001.479402560265137632920333093071_76.npy\n",
      "75 images_1.3.6.1.4.1.14519.5.2.1.6279.6001.481278873893653517789960724156_31.npy\n",
      "76 images_1.3.6.1.4.1.14519.5.2.1.6279.6001.481278873893653517789960724156_43.npy\n",
      "77 images_1.3.6.1.4.1.14519.5.2.1.6279.6001.487745546557477250336016826588_118.npy\n",
      "78 images_1.3.6.1.4.1.14519.5.2.1.6279.6001.503980049263254396021509831276_56.npy\n",
      "79 images_1.3.6.1.4.1.14519.5.2.1.6279.6001.503980049263254396021509831276_85.npy\n",
      "80 images_1.3.6.1.4.1.14519.5.2.1.6279.6001.503980049263254396021509831276_91.npy\n",
      "81 images_1.3.6.1.4.1.14519.5.2.1.6279.6001.511347030803753100045216493273_65.npy\n",
      "82 images_1.3.6.1.4.1.14519.5.2.1.6279.6001.511347030803753100045216493273_67.npy\n",
      "83 images_1.3.6.1.4.1.14519.5.2.1.6279.6001.511347030803753100045216493273_73.npy\n",
      "84 images_1.3.6.1.4.1.14519.5.2.1.6279.6001.525937963993475482158828421281_338.npy\n",
      "85 images_1.3.6.1.4.1.14519.5.2.1.6279.6001.534006575256943390479252771547_201.npy\n",
      "86 images_1.3.6.1.4.1.14519.5.2.1.6279.6001.534006575256943390479252771547_382.npy\n",
      "87 images_1.3.6.1.4.1.14519.5.2.1.6279.6001.534006575256943390479252771547_421.npy\n",
      "88 images_1.3.6.1.4.1.14519.5.2.1.6279.6001.534083630500464995109143618896_130.npy\n",
      "89 images_1.3.6.1.4.1.14519.5.2.1.6279.6001.534083630500464995109143618896_149.npy\n",
      "90 images_1.3.6.1.4.1.14519.5.2.1.6279.6001.534083630500464995109143618896_151.npy\n",
      "91 images_1.3.6.1.4.1.14519.5.2.1.6279.6001.557875302364105947813979213632_163.npy\n",
      "92 images_1.3.6.1.4.1.14519.5.2.1.6279.6001.557875302364105947813979213632_214.npy\n",
      "93 images_1.3.6.1.4.1.14519.5.2.1.6279.6001.557875302364105947813979213632_304.npy\n",
      "94 images_1.3.6.1.4.1.14519.5.2.1.6279.6001.561458563853929400124470098603_60.npy\n",
      "95 images_1.3.6.1.4.1.14519.5.2.1.6279.6001.561458563853929400124470098603_66.npy\n",
      "96 images_1.3.6.1.4.1.14519.5.2.1.6279.6001.566816709786169715745131047975_79.npy\n",
      "97 images_1.3.6.1.4.1.14519.5.2.1.6279.6001.584871944187559733312703328980_177.npy\n",
      "98 images_1.3.6.1.4.1.14519.5.2.1.6279.6001.603166427542096384265514998412_242.npy\n",
      "99 images_1.3.6.1.4.1.14519.5.2.1.6279.6001.614147706162329660656328811671_69.npy\n",
      "100 images_1.3.6.1.4.1.14519.5.2.1.6279.6001.616033753016904899083676284739_59.npy\n",
      "101 images_1.3.6.1.4.1.14519.5.2.1.6279.6001.616033753016904899083676284739_60.npy\n",
      "102 images_1.3.6.1.4.1.14519.5.2.1.6279.6001.616033753016904899083676284739_67.npy\n",
      "103 images_1.3.6.1.4.1.14519.5.2.1.6279.6001.616033753016904899083676284739_70.npy\n",
      "104 images_1.3.6.1.4.1.14519.5.2.1.6279.6001.621916089407825046337959219998_81.npy\n",
      "105 images_1.3.6.1.4.1.14519.5.2.1.6279.6001.624425075947752229712087113746_53.npy\n",
      "106 images_1.3.6.1.4.1.14519.5.2.1.6279.6001.625270601160880745954773142570_170.npy\n",
      "107 images_1.3.6.1.4.1.14519.5.2.1.6279.6001.631047517458234322522264161877_129.npy\n",
      "108 images_1.3.6.1.4.1.14519.5.2.1.6279.6001.640729228179368154416184318668_221.npy\n",
      "109 images_1.3.6.1.4.1.14519.5.2.1.6279.6001.655242448149322898770987310561_43.npy\n",
      "110 images_1.3.6.1.4.1.14519.5.2.1.6279.6001.663019255629770796363333877035_180.npy\n",
      "111 images_1.3.6.1.4.1.14519.5.2.1.6279.6001.670107649586205629860363487713_109.npy\n",
      "112 images_1.3.6.1.4.1.14519.5.2.1.6279.6001.674809958213117379592437424616_110.npy\n",
      "113 images_1.3.6.1.4.1.14519.5.2.1.6279.6001.674809958213117379592437424616_114.npy\n",
      "114 images_1.3.6.1.4.1.14519.5.2.1.6279.6001.690929968028676628605553365896_118.npy\n",
      "115 images_1.3.6.1.4.1.14519.5.2.1.6279.6001.692598144815688523679745963696_118.npy\n",
      "116 images_1.3.6.1.4.1.14519.5.2.1.6279.6001.692598144815688523679745963696_50.npy\n",
      "117 images_1.3.6.1.4.1.14519.5.2.1.6279.6001.716498695101447665580610403574_329.npy\n",
      "118 images_1.3.6.1.4.1.14519.5.2.1.6279.6001.724251104254976962355686318345_269.npy\n",
      "119 images_1.3.6.1.4.1.14519.5.2.1.6279.6001.724251104254976962355686318345_97.npy\n",
      "120 images_1.3.6.1.4.1.14519.5.2.1.6279.6001.741709061958490690246385302477_87.npy\n",
      "121 images_1.3.6.1.4.1.14519.5.2.1.6279.6001.741709061958490690246385302477_99.npy\n",
      "122\n"
     ]
    }
   ],
   "source": [
    "c=0\n",
    "for i,j in enumerate(validation_ids):\n",
    "    print(i,j)\n",
    "    c=c+1\n",
    "print(c)\n"
   ]
  },
  {
   "cell_type": "code",
   "execution_count": 15,
   "id": "4f3a0f91",
   "metadata": {},
   "outputs": [
    {
     "name": "stderr",
     "output_type": "stream",
     "text": [
      " 50%|████████████████████████████████████████▌                                        | 61/122 [00:01<00:01, 52.90it/s]\n"
     ]
    },
    {
     "ename": "IndexError",
     "evalue": "index 61 is out of bounds for axis 0 with size 61",
     "output_type": "error",
     "traceback": [
      "\u001b[1;31m---------------------------------------------------------------------------\u001b[0m",
      "\u001b[1;31mIndexError\u001b[0m                                Traceback (most recent call last)",
      "\u001b[1;32m~\\AppData\\Local\\Temp\\ipykernel_20488\\507133119.py\u001b[0m in \u001b[0;36m<module>\u001b[1;34m\u001b[0m\n\u001b[0;32m      4\u001b[0m     \u001b[0mimg_normal\u001b[0m \u001b[1;33m=\u001b[0m \u001b[0mnormalize\u001b[0m\u001b[1;33m(\u001b[0m\u001b[0mimgs\u001b[0m\u001b[1;33m)\u001b[0m\u001b[1;33m\u001b[0m\u001b[1;33m\u001b[0m\u001b[0m\n\u001b[0;32m      5\u001b[0m     \u001b[0mimg\u001b[0m \u001b[1;33m=\u001b[0m \u001b[0mresize\u001b[0m\u001b[1;33m(\u001b[0m\u001b[0mimg_normal\u001b[0m\u001b[1;33m,\u001b[0m\u001b[1;33m(\u001b[0m\u001b[0mIMG_HEIGHT\u001b[0m\u001b[1;33m,\u001b[0m\u001b[0mIMG_WIDTH\u001b[0m\u001b[1;33m)\u001b[0m\u001b[1;33m,\u001b[0m\u001b[0mmode\u001b[0m\u001b[1;33m=\u001b[0m\u001b[1;34m\"constant\"\u001b[0m\u001b[1;33m,\u001b[0m\u001b[0mpreserve_range\u001b[0m\u001b[1;33m=\u001b[0m\u001b[1;32mTrue\u001b[0m\u001b[1;33m)\u001b[0m\u001b[1;33m\u001b[0m\u001b[1;33m\u001b[0m\u001b[0m\n\u001b[1;32m----> 6\u001b[1;33m     \u001b[0mX_validation\u001b[0m\u001b[1;33m[\u001b[0m\u001b[0mn\u001b[0m\u001b[1;33m]\u001b[0m\u001b[1;33m=\u001b[0m\u001b[0mimg\u001b[0m\u001b[1;33m\u001b[0m\u001b[1;33m\u001b[0m\u001b[0m\n\u001b[0m\u001b[0;32m      7\u001b[0m \u001b[1;31m#     #getting_mask_name\u001b[0m\u001b[1;33m\u001b[0m\u001b[1;33m\u001b[0m\u001b[1;33m\u001b[0m\u001b[0m\n\u001b[0;32m      8\u001b[0m \u001b[1;31m#     mask_id_split= id_.split(\"images\")[1]\u001b[0m\u001b[1;33m\u001b[0m\u001b[1;33m\u001b[0m\u001b[1;33m\u001b[0m\u001b[0m\n",
      "\u001b[1;31mIndexError\u001b[0m: index 61 is out of bounds for axis 0 with size 61"
     ]
    }
   ],
   "source": [
    "for n,id_ in tqdm(enumerate(validation_ids),total=len(validation_ids)):\n",
    "    path=VALIDATION_PATH+id_\n",
    "    imgs = np.load(VALIDATION_PATH+id_)\n",
    "    img_normal = normalize(imgs)\n",
    "    img = resize(img_normal,(IMG_HEIGHT,IMG_WIDTH),mode=\"constant\",preserve_range=True)\n",
    "    X_validation[n]=img\n",
    "#     #getting_mask_name\n",
    "#     mask_id_split= id_.split(\"images\")[1]\n",
    "#     mask_id = (\"masks\"+ mask_id_split)\n",
    "#     #print(mask_id)\n",
    "#     mask = np.load(VALIDATION_MASK_PATH+mask_id)\n",
    "#     mask_resize = resize(mask,(IMG_HEIGHT,IMG_WIDTH),mode=\"constant\",preserve_range=True)\n",
    "#     Y_validation[n] = mask_resize"
   ]
  },
  {
   "cell_type": "code",
   "execution_count": 16,
   "id": "b57f50bf",
   "metadata": {},
   "outputs": [
    {
     "data": {
      "image/png": "[encoded data removed]",
      "text/plain": [
       "<Figure size 432x288 with 1 Axes>"
      ]
     },
     "metadata": {
      "needs_background": "light"
     },
     "output_type": "display_data"
    },
    {
     "name": "stderr",
     "output_type": "stream",
     "text": [
      "C:\\ProgramData\\Anaconda3\\envs\\py37\\lib\\site-packages\\skimage\\io\\_plugins\\matplotlib_plugin.py:150: UserWarning: Low image data range; displaying image with stretched contrast.\n",
      "  lo, hi, cmap = _get_display_range(image)\n"
     ]
    },
    {
     "data": {
      "image/png": "[encoded data removed]",
      "text/plain": [
       "<Figure size 432x288 with 2 Axes>"
      ]
     },
     "metadata": {
      "needs_background": "light"
     },
     "output_type": "display_data"
    }
   ],
   "source": [
    "#Checking the training data\n",
    "ix=random.randint(0,len(train_ids))\n",
    "imshow(X_train[ix])\n",
    "plt.show()\n",
    "imshow(Y_train[ix])\n",
    "plt.show()"
   ]
  },
  {
   "cell_type": "code",
   "execution_count": 18,
   "id": "3dbdf508",
   "metadata": {},
   "outputs": [],
   "source": [
    "#https://stackoverflow.com/questions/72195156/correct-implementation-of-dice-loss-in-tensorflow-keras\n",
    "def dice_coef(y_true, y_pred, smooth = 100):        \n",
    "    y_true_f = K.flatten(y_true)\n",
    "    y_pred_f = K.flatten(y_pred)\n",
    "    intersection = K.sum(y_true_f * y_pred_f)\n",
    "    dice = (2. * intersection + smooth) / (K.sum(y_true_f) + K.sum(y_pred_f) + smooth)\n",
    "    return dice"
   ]
  },
  {
   "cell_type": "code",
   "execution_count": 19,
   "id": "228f1243",
   "metadata": {},
   "outputs": [],
   "source": [
    "inputs = tf.keras.layers.Input((IMG_WIDTH,IMG_HEIGHT,IMG_CHANNELS))"
   ]
  },
  {
   "cell_type": "code",
   "execution_count": 20,
   "id": "f3b38128",
   "metadata": {},
   "outputs": [],
   "source": [
    "s = tf.keras.layers.Lambda(lambda x:x / 255)(inputs)"
   ]
  },
  {
   "cell_type": "markdown",
   "id": "c9287df9",
   "metadata": {},
   "source": [
    "### Constructing U NET"
   ]
  },
  {
   "cell_type": "code",
   "execution_count": 21,
   "id": "9bb294fa",
   "metadata": {},
   "outputs": [],
   "source": [
    "c1 = tf.keras.layers.Conv2D(16,(3,3),activation=\"relu\",kernel_initializer = \"he_normal\",padding=\"same\")(inputs)\n",
    "c1 = tf.keras.layers.Dropout(0.1)(c1)\n",
    "c1 = tf.keras.layers.Conv2D(16,(3,3),activation=\"relu\",kernel_initializer=\"he_normal\",padding=\"same\")(c1)\n",
    "p1=tf.keras.layers.MaxPooling2D((2,2))(c1)"
   ]
  },
  {
   "cell_type": "code",
   "execution_count": 22,
   "id": "c109c400",
   "metadata": {},
   "outputs": [],
   "source": [
    "c2=tf.keras.layers.Conv2D(32,(3,3),activation=\"relu\",kernel_initializer=\"he_normal\",padding=\"same\")(p1)\n",
    "c2 = tf.keras.layers.Dropout(0.1)(c2)\n",
    "c2=tf.keras.layers.Conv2D(32,(3,3),activation=\"relu\",kernel_initializer=\"he_normal\",padding=\"same\")(c2)\n",
    "p2= tf.keras.layers.MaxPooling2D((2,2))(c2)"
   ]
  },
  {
   "cell_type": "code",
   "execution_count": 23,
   "id": "a9cf5f00",
   "metadata": {},
   "outputs": [],
   "source": [
    "c3=tf.keras.layers.Conv2D(64,(3,3),activation=\"relu\",kernel_initializer=\"he_normal\",padding=\"same\")(p2)\n",
    "c3=tf.keras.layers.Dropout(0.2)(c3)\n",
    "c3=tf.keras.layers.Conv2D(64,(3,3),activation=\"relu\",kernel_initializer=\"he_normal\",padding=\"same\")(c3)\n",
    "p3=tf.keras.layers.MaxPooling2D((2,2))(c3)"
   ]
  },
  {
   "cell_type": "code",
   "execution_count": 24,
   "id": "ce766d90",
   "metadata": {},
   "outputs": [],
   "source": [
    "c4=tf.keras.layers.Conv2D(128,(3,3),activation=\"relu\",kernel_initializer=\"he_normal\",padding=\"same\")(p3)\n",
    "c4=tf.keras.layers.Dropout(0.2)(c4)\n",
    "c4=tf.keras.layers.Conv2D(126,(3,3),activation=\"relu\",kernel_initializer=\"he_normal\",padding=\"same\")(c4)\n",
    "p4=tf.keras.layers.MaxPooling2D((2,2))(c4)"
   ]
  },
  {
   "cell_type": "code",
   "execution_count": 25,
   "id": "b3e48e7b",
   "metadata": {},
   "outputs": [],
   "source": [
    "c5=tf.keras.layers.Conv2D(256,(3,3),activation=\"relu\",kernel_initializer=\"he_normal\",padding=\"same\")(p4)\n",
    "c5=tf.keras.layers.Dropout(0.3)(c5)\n",
    "c5=tf.keras.layers.Conv2D(256,(3,3),activation=\"relu\",kernel_initializer=\"he_normal\",padding=\"same\")(c5)\n",
    "p5=tf.keras.layers.MaxPooling2D((2,2))(c5)"
   ]
  },
  {
   "cell_type": "code",
   "execution_count": 26,
   "id": "d558b9fa",
   "metadata": {},
   "outputs": [],
   "source": [
    "#expansive path"
   ]
  },
  {
   "cell_type": "code",
   "execution_count": 27,
   "id": "75f08b4d",
   "metadata": {},
   "outputs": [],
   "source": [
    "u6 = tf.keras.layers.Conv2DTranspose(128,(2,2),strides=(2,2),padding=\"same\")(c5)\n",
    "u6=tf.keras.layers.concatenate([u6,c4])\n",
    "c6=tf.keras.layers.Conv2D(128,(3,3),activation=\"relu\",kernel_initializer=\"he_normal\",padding=\"same\")(u6)\n",
    "c6=tf.keras.layers.Dropout(0.2)(c6)\n",
    "c6=tf.keras.layers.Conv2D(128,(3,3),activation=\"relu\",kernel_initializer=\"he_normal\",padding=\"same\")(c6)"
   ]
  },
  {
   "cell_type": "code",
   "execution_count": 28,
   "id": "de3dde90",
   "metadata": {},
   "outputs": [],
   "source": [
    "u7=tf.keras.layers.Conv2DTranspose(64,(2,2),strides=(2,2),padding=\"same\")(c6)\n",
    "u7=tf.keras.layers.concatenate([u7,c3])\n",
    "c7=tf.keras.layers.Conv2D(64,(3,3),activation=\"relu\",kernel_initializer=\"he_normal\",padding=\"same\")(u7)\n",
    "c7=tf.keras.layers.Dropout(0.2)(c7)\n",
    "c7=tf.keras.layers.Conv2D(64,(3,3),activation=\"relu\",kernel_initializer=\"he_normal\",padding=\"same\")(c7)"
   ]
  },
  {
   "cell_type": "code",
   "execution_count": 29,
   "id": "94c5a6ec",
   "metadata": {},
   "outputs": [],
   "source": [
    "u8 = tf.keras.layers.Conv2DTranspose(32,(2,2),strides=(2,2),padding=\"same\")(c7)\n",
    "u8=tf.keras.layers.concatenate([u8,c2])\n",
    "c8=tf.keras.layers.Conv2D(32,(3,3),activation=\"relu\",kernel_initializer=\"he_normal\",padding=\"same\")(u8)\n",
    "c8=tf.keras.layers.Dropout(0.1)(c8)\n",
    "c8=tf.keras.layers.Conv2D(32,(3,3),activation=\"relu\",kernel_initializer=\"he_normal\",padding=\"same\")(c8)\n"
   ]
  },
  {
   "cell_type": "code",
   "execution_count": 30,
   "id": "682fd74f",
   "metadata": {},
   "outputs": [],
   "source": [
    "u9=tf.keras.layers.Conv2DTranspose(16,(2,2),strides=(2,2),padding=\"same\")(c8)\n",
    "u9=tf.keras.layers.concatenate([u9,c1],axis=3)\n",
    "c9=tf.keras.layers.Conv2D(16,(3,3),activation=\"relu\",kernel_initializer=\"he_normal\",padding=\"same\")(u9)\n",
    "c9=tf.keras.layers.Dropout(0.1)(c9)\n",
    "c9=tf.keras.layers.Conv2D(16,(3,3),activation=\"relu\",kernel_initializer=\"he_normal\",padding=\"same\")(c9)\n"
   ]
  },
  {
   "cell_type": "code",
   "execution_count": 31,
   "id": "a773c995",
   "metadata": {},
   "outputs": [],
   "source": [
    "outputs=tf.keras.layers.Conv2D(1,(1,1),activation=\"sigmoid\")(c9)"
   ]
  },
  {
   "cell_type": "code",
   "execution_count": 33,
   "id": "ebcfa865",
   "metadata": {},
   "outputs": [
    {
     "name": "stdout",
     "output_type": "stream",
     "text": [
      "Model: \"model_1\"\n",
      "__________________________________________________________________________________________________\n",
      " Layer (type)                   Output Shape         Param #     Connected to                     \n",
      "==================================================================================================\n",
      " input_1 (InputLayer)           [(None, 512, 512, 1  0           []                               \n",
      "                                )]                                                                \n",
      "                                                                                                  \n",
      " conv2d (Conv2D)                (None, 512, 512, 16  160         ['input_1[0][0]']                \n",
      "                                )                                                                 \n",
      "                                                                                                  \n",
      " dropout (Dropout)              (None, 512, 512, 16  0           ['conv2d[0][0]']                 \n",
      "                                )                                                                 \n",
      "                                                                                                  \n",
      " conv2d_1 (Conv2D)              (None, 512, 512, 16  2320        ['dropout[0][0]']                \n",
      "                                )                                                                 \n",
      "                                                                                                  \n",
      " max_pooling2d (MaxPooling2D)   (None, 256, 256, 16  0           ['conv2d_1[0][0]']               \n",
      "                                )                                                                 \n",
      "                                                                                                  \n",
      " conv2d_2 (Conv2D)              (None, 256, 256, 32  4640        ['max_pooling2d[0][0]']          \n",
      "                                )                                                                 \n",
      "                                                                                                  \n",
      " dropout_1 (Dropout)            (None, 256, 256, 32  0           ['conv2d_2[0][0]']               \n",
      "                                )                                                                 \n",
      "                                                                                                  \n",
      " conv2d_3 (Conv2D)              (None, 256, 256, 32  9248        ['dropout_1[0][0]']              \n",
      "                                )                                                                 \n",
      "                                                                                                  \n",
      " max_pooling2d_1 (MaxPooling2D)  (None, 128, 128, 32  0          ['conv2d_3[0][0]']               \n",
      "                                )                                                                 \n",
      "                                                                                                  \n",
      " conv2d_4 (Conv2D)              (None, 128, 128, 64  18496       ['max_pooling2d_1[0][0]']        \n",
      "                                )                                                                 \n",
      "                                                                                                  \n",
      " dropout_2 (Dropout)            (None, 128, 128, 64  0           ['conv2d_4[0][0]']               \n",
      "                                )                                                                 \n",
      "                                                                                                  \n",
      " conv2d_5 (Conv2D)              (None, 128, 128, 64  36928       ['dropout_2[0][0]']              \n",
      "                                )                                                                 \n",
      "                                                                                                  \n",
      " max_pooling2d_2 (MaxPooling2D)  (None, 64, 64, 64)  0           ['conv2d_5[0][0]']               \n",
      "                                                                                                  \n",
      " conv2d_6 (Conv2D)              (None, 64, 64, 128)  73856       ['max_pooling2d_2[0][0]']        \n",
      "                                                                                                  \n",
      " dropout_3 (Dropout)            (None, 64, 64, 128)  0           ['conv2d_6[0][0]']               \n",
      "                                                                                                  \n",
      " conv2d_7 (Conv2D)              (None, 64, 64, 126)  145278      ['dropout_3[0][0]']              \n",
      "                                                                                                  \n",
      " max_pooling2d_3 (MaxPooling2D)  (None, 32, 32, 126)  0          ['conv2d_7[0][0]']               \n",
      "                                                                                                  \n",
      " conv2d_8 (Conv2D)              (None, 32, 32, 256)  290560      ['max_pooling2d_3[0][0]']        \n",
      "                                                                                                  \n",
      " dropout_4 (Dropout)            (None, 32, 32, 256)  0           ['conv2d_8[0][0]']               \n",
      "                                                                                                  \n",
      " conv2d_9 (Conv2D)              (None, 32, 32, 256)  590080      ['dropout_4[0][0]']              \n",
      "                                                                                                  \n",
      " conv2d_transpose (Conv2DTransp  (None, 64, 64, 128)  131200     ['conv2d_9[0][0]']               \n",
      " ose)                                                                                             \n",
      "                                                                                                  \n",
      " concatenate (Concatenate)      (None, 64, 64, 254)  0           ['conv2d_transpose[0][0]',       \n",
      "                                                                  'conv2d_7[0][0]']               \n",
      "                                                                                                  \n",
      " conv2d_10 (Conv2D)             (None, 64, 64, 128)  292736      ['concatenate[0][0]']            \n",
      "                                                                                                  \n",
      " dropout_5 (Dropout)            (None, 64, 64, 128)  0           ['conv2d_10[0][0]']              \n",
      "                                                                                                  \n",
      " conv2d_11 (Conv2D)             (None, 64, 64, 128)  147584      ['dropout_5[0][0]']              \n",
      "                                                                                                  \n",
      " conv2d_transpose_1 (Conv2DTran  (None, 128, 128, 64  32832      ['conv2d_11[0][0]']              \n",
      " spose)                         )                                                                 \n",
      "                                                                                                  \n",
      " concatenate_1 (Concatenate)    (None, 128, 128, 12  0           ['conv2d_transpose_1[0][0]',     \n",
      "                                8)                                'conv2d_5[0][0]']               \n",
      "                                                                                                  \n",
      " conv2d_12 (Conv2D)             (None, 128, 128, 64  73792       ['concatenate_1[0][0]']          \n",
      "                                )                                                                 \n",
      "                                                                                                  \n",
      " dropout_6 (Dropout)            (None, 128, 128, 64  0           ['conv2d_12[0][0]']              \n",
      "                                )                                                                 \n",
      "                                                                                                  \n",
      " conv2d_13 (Conv2D)             (None, 128, 128, 64  36928       ['dropout_6[0][0]']              \n",
      "                                )                                                                 \n",
      "                                                                                                  \n",
      " conv2d_transpose_2 (Conv2DTran  (None, 256, 256, 32  8224       ['conv2d_13[0][0]']              \n"
     ]
    },
    {
     "name": "stdout",
     "output_type": "stream",
     "text": [
      " spose)                         )                                                                 \n",
      "                                                                                                  \n",
      " concatenate_2 (Concatenate)    (None, 256, 256, 64  0           ['conv2d_transpose_2[0][0]',     \n",
      "                                )                                 'conv2d_3[0][0]']               \n",
      "                                                                                                  \n",
      " conv2d_14 (Conv2D)             (None, 256, 256, 32  18464       ['concatenate_2[0][0]']          \n",
      "                                )                                                                 \n",
      "                                                                                                  \n",
      " dropout_7 (Dropout)            (None, 256, 256, 32  0           ['conv2d_14[0][0]']              \n",
      "                                )                                                                 \n",
      "                                                                                                  \n",
      " conv2d_15 (Conv2D)             (None, 256, 256, 32  9248        ['dropout_7[0][0]']              \n",
      "                                )                                                                 \n",
      "                                                                                                  \n",
      " conv2d_transpose_3 (Conv2DTran  (None, 512, 512, 16  2064       ['conv2d_15[0][0]']              \n",
      " spose)                         )                                                                 \n",
      "                                                                                                  \n",
      " concatenate_3 (Concatenate)    (None, 512, 512, 32  0           ['conv2d_transpose_3[0][0]',     \n",
      "                                )                                 'conv2d_1[0][0]']               \n",
      "                                                                                                  \n",
      " conv2d_16 (Conv2D)             (None, 512, 512, 16  4624        ['concatenate_3[0][0]']          \n",
      "                                )                                                                 \n",
      "                                                                                                  \n",
      " dropout_8 (Dropout)            (None, 512, 512, 16  0           ['conv2d_16[0][0]']              \n",
      "                                )                                                                 \n",
      "                                                                                                  \n",
      " conv2d_17 (Conv2D)             (None, 512, 512, 16  2320        ['dropout_8[0][0]']              \n",
      "                                )                                                                 \n",
      "                                                                                                  \n",
      " conv2d_18 (Conv2D)             (None, 512, 512, 1)  17          ['conv2d_17[0][0]']              \n",
      "                                                                                                  \n",
      "==================================================================================================\n",
      "Total params: 1,931,599\n",
      "Trainable params: 1,931,599\n",
      "Non-trainable params: 0\n",
      "__________________________________________________________________________________________________\n"
     ]
    }
   ],
   "source": [
    "model_unet=tf.keras.Model(inputs=[inputs],outputs=[outputs])\n",
    "model_unet.compile(optimizer=\"adam\",loss=\"binary_crossentropy\",metrics=[dice_coef])\n",
    "model_unet.summary()"
   ]
  },
  {
   "cell_type": "code",
   "execution_count": 34,
   "id": "0ba86f93",
   "metadata": {},
   "outputs": [],
   "source": [
    "checkpointer= tf.keras.callbacks.ModelCheckpoint(\"model_for_nuclei.h5\",verbose=1,save_best_only=True)"
   ]
  },
  {
   "cell_type": "code",
   "execution_count": 35,
   "id": "46a6e37e",
   "metadata": {},
   "outputs": [],
   "source": [
    "callbacks=[\n",
    "    tf.keras.callbacks.EarlyStopping(patience=5,monitor=\"val_loss\"),\n",
    "    tf.keras.callbacks.TensorBoard(log_dir=\"logs\"),\n",
    "    checkpointer\n",
    "]"
   ]
  },
  {
   "cell_type": "code",
   "execution_count": null,
   "id": "eb27224e",
   "metadata": {},
   "outputs": [
    {
     "name": "stdout",
     "output_type": "stream",
     "text": [
      "Epoch 1/100\n",
      "22/22 [==============================] - ETA: 0s - loss: 0.0790 - dice_coef: 0.0129 \n",
      "Epoch 1: val_loss improved from inf to 0.02634, saving model to model_for_nuclei.h5\n",
      "22/22 [==============================] - 405s 18s/step - loss: 0.0790 - dice_coef: 0.0129 - val_loss: 0.0263 - val_dice_coef: 0.0136\n",
      "Epoch 2/100\n",
      "22/22 [==============================] - ETA: 0s - loss: 0.0257 - dice_coef: 0.0109 \n",
      "Epoch 2: val_loss improved from 0.02634 to 0.02310, saving model to model_for_nuclei.h5\n",
      "22/22 [==============================] - 441s 20s/step - loss: 0.0257 - dice_coef: 0.0109 - val_loss: 0.0231 - val_dice_coef: 0.0145\n",
      "Epoch 3/100\n",
      "22/22 [==============================] - ETA: 0s - loss: 0.0217 - dice_coef: 0.0114 \n",
      "Epoch 3: val_loss did not improve from 0.02310\n",
      "22/22 [==============================] - 445s 20s/step - loss: 0.0217 - dice_coef: 0.0114 - val_loss: 0.0234 - val_dice_coef: 0.0151\n",
      "Epoch 4/100\n",
      "22/22 [==============================] - ETA: 0s - loss: 0.0198 - dice_coef: 0.0125 \n",
      "Epoch 4: val_loss improved from 0.02310 to 0.02180, saving model to model_for_nuclei.h5\n",
      "22/22 [==============================] - 438s 20s/step - loss: 0.0198 - dice_coef: 0.0125 - val_loss: 0.0218 - val_dice_coef: 0.0153\n",
      "Epoch 5/100\n",
      "18/22 [=======================>......] - ETA: 1:17 - loss: 0.0183 - dice_coef: 0.0133"
     ]
    }
   ],
   "source": [
    " results = model_unet.fit(X_train,Y_train,validation_split=0.2,batch_size=16,epochs=100,callbacks=callbacks )"
   ]
  },
  {
   "cell_type": "markdown",
   "id": "e87eab47",
   "metadata": {},
   "source": [
    "#### Checking the model on random images"
   ]
  },
  {
   "cell_type": "code",
   "execution_count": null,
   "id": "29ddc010",
   "metadata": {},
   "outputs": [],
   "source": [
    "idx = random.randint(0,len(X_train))"
   ]
  },
  {
   "cell_type": "code",
   "execution_count": null,
   "id": "dd133f30",
   "metadata": {},
   "outputs": [],
   "source": [
    "preds_train = model.predict(X_train[:int(X_train.shape[0]*0.9)],verbose=1)\n",
    "preds_val = model.predict(X_train[int(X_train.shape[0]*0.9):],verbose=1)\n",
    "preds_test=model.predict(X_test,verbose=1)"
   ]
  },
  {
   "cell_type": "code",
   "execution_count": null,
   "id": "787db929",
   "metadata": {},
   "outputs": [],
   "source": [
    "#Each pixel is given a value between 0 and 1. We set a threshold 0.5 to binarize using thresholding"
   ]
  },
  {
   "cell_type": "code",
   "execution_count": null,
   "id": "ea97cdf8",
   "metadata": {},
   "outputs": [],
   "source": [
    "preds_train_t = (preds_train >0.6).astype(np.uint8)\n",
    "preds_val_t = (preds_val>0.6).astype(np.uint8)\n",
    "preds_test_t = (preds_test>0.6).astype(np.uint8)"
   ]
  },
  {
   "cell_type": "code",
   "execution_count": null,
   "id": "e1d1faac",
   "metadata": {},
   "outputs": [],
   "source": [
    "#Checking"
   ]
  },
  {
   "cell_type": "code",
   "execution_count": null,
   "id": "3defa54b",
   "metadata": {},
   "outputs": [],
   "source": [
    "ix = random.randint(0,len(preds_train_t))\n",
    "imshow(X_train[ix])\n",
    "plt.show()\n",
    "imshow(Y_train[ix])\n",
    "plt.show()\n",
    "imshow(preds_train_t[ix])\n",
    "plt.show()"
   ]
  }
 ],
 "metadata": {
  "kernelspec": {
   "display_name": "Python 3 (ipykernel)",
   "language": "python",
   "name": "python3"
  },
  "language_info": {
   "codemirror_mode": {
    "name": "ipython",
    "version": 3
   },
   "file_extension": ".py",
   "mimetype": "text/x-python",
   "name": "python",
   "nbconvert_exporter": "python",
   "pygments_lexer": "ipython3",
   "version": "3.7.11"
  }
 },
 "nbformat": 4,
 "nbformat_minor": 5
}
