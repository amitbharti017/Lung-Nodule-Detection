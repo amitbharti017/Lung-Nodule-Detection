{
 "cells": [
  {
   "cell_type": "code",
   "execution_count": 1,
   "id": "ab95a83e",
   "metadata": {},
   "outputs": [],
   "source": [
    "import tensorflow as tf\n",
    "import numpy as np\n",
    "import pandas as pd\n",
    "import matplotlib.pyplot as plt"
   ]
  },
  {
   "cell_type": "code",
   "execution_count": 2,
   "id": "b3c66ee1",
   "metadata": {},
   "outputs": [],
   "source": [
    "import cv2\n",
    "from skimage.io import imread,imshow\n",
    "import os\n",
    "import random\n",
    "from tqdm import tqdm\n",
    "from skimage.transform import resize\n",
    "from sklearn.model_selection import train_test_split"
   ]
  },
  {
   "cell_type": "markdown",
   "id": "240ac2e4",
   "metadata": {},
   "source": [
    "## Performance of vanillla model with image preprocessing"
   ]
  },
  {
   "cell_type": "code",
   "execution_count": 38,
   "id": "4cab127b",
   "metadata": {},
   "outputs": [],
   "source": [
    "TRAIN_PATH = \"dataset/2d_slices/data_for_model/train/pre_processed_images\"\n",
    "TRAIN_MASK_PATH = \"dataset/2d_slices/data_for_model/train/masks\""
   ]
  },
  {
   "cell_type": "code",
   "execution_count": 4,
   "id": "89052c09",
   "metadata": {},
   "outputs": [],
   "source": [
    "TEST_PATH = \"dataset/2d_slices/data_for_model/test/pre_processed_images\"\n",
    "TEST_MASK_PATH = \"dataset/2d_slices/data_for_model/test/masks\""
   ]
  },
  {
   "cell_type": "code",
   "execution_count": 29,
   "id": "7fb3e9a6",
   "metadata": {},
   "outputs": [],
   "source": [
    "original_path = \"dataset/2d_slices/original_image_for_model/test/imgs\""
   ]
  },
  {
   "cell_type": "code",
   "execution_count": 30,
   "id": "43e8c67a",
   "metadata": {},
   "outputs": [],
   "source": [
    "train_ids = next(os.walk(TRAIN_PATH))[2]\n",
    "mask_train_ids = next(os.walk(TRAIN_MASK_PATH))[2]\n",
    "original_ids = next(os.walk(original_path))[2]\n",
    "test_ids = next(os.walk(TEST_PATH))[2]\n",
    "mask_test_ids = next(os.walk(TEST_MASK_PATH))[2]"
   ]
  },
  {
   "cell_type": "code",
   "execution_count": 31,
   "id": "9ce6227e",
   "metadata": {},
   "outputs": [],
   "source": [
    "IMG_WIDTH = 512\n",
    "IMG_HEIGHT = 512\n",
    "IMG_CHANNELS = 1"
   ]
  },
  {
   "cell_type": "code",
   "execution_count": 39,
   "id": "07b889e7",
   "metadata": {},
   "outputs": [],
   "source": [
    "X_train = np.zeros((len(train_ids),IMG_HEIGHT,IMG_WIDTH,IMG_CHANNELS),dtype=np.float16)\n",
    "Y_train=np.zeros((len(mask_train_ids),IMG_HEIGHT,IMG_WIDTH,1),dtype = np.float16)\n",
    "W_test = np.zeros((len(original_ids),IMG_HEIGHT,IMG_WIDTH,IMG_CHANNELS),dtype=np.float16)\n",
    "X_test= np.zeros((len(test_ids),IMG_HEIGHT,IMG_WIDTH,IMG_CHANNELS),dtype=np.float16)\n",
    "Y_test= np.zeros((len(mask_test_ids),IMG_HEIGHT,IMG_WIDTH,1),dtype = np.float16)"
   ]
  },
  {
   "cell_type": "code",
   "execution_count": 40,
   "id": "117bdc19",
   "metadata": {},
   "outputs": [
    {
     "name": "stderr",
     "output_type": "stream",
     "text": [
      "100%|██████████████████████████████████████████████████████████████████████████████| 1499/1499 [01:44<00:00, 14.37it/s]\n"
     ]
    }
   ],
   "source": [
    "for n,id_ in tqdm(enumerate(train_ids),total=len(train_ids)):\n",
    "    path=TRAIN_PATH+\"/\"+id_\n",
    "    img = np.load(path)\n",
    "    img = resize(img,(IMG_HEIGHT,IMG_WIDTH),mode=\"constant\",preserve_range=True)\n",
    "    X_train[n]=np.expand_dims(img, axis=2)"
   ]
  },
  {
   "cell_type": "code",
   "execution_count": 43,
   "id": "c6846c2e",
   "metadata": {},
   "outputs": [
    {
     "name": "stderr",
     "output_type": "stream",
     "text": [
      "100%|██████████████████████████████████████████████████████████████████████████████| 1499/1499 [01:48<00:00, 13.86it/s]\n"
     ]
    }
   ],
   "source": [
    "for n,id_ in tqdm(enumerate(mask_train_ids),total=len(mask_train_ids)):\n",
    "    path=TRAIN_MASK_PATH+\"/\"+id_\n",
    "    mask = np.load(path)\n",
    "    mask = resize(mask,(IMG_HEIGHT,IMG_WIDTH),mode=\"constant\",preserve_range=True)\n",
    "    Y_train[n]=np.expand_dims(mask, axis=2)"
   ]
  },
  {
   "cell_type": "code",
   "execution_count": 44,
   "id": "752aff22",
   "metadata": {},
   "outputs": [
    {
     "name": "stderr",
     "output_type": "stream",
     "text": [
      "100%|████████████████████████████████████████████████████████████████████████████████| 177/177 [00:05<00:00, 30.11it/s]\n"
     ]
    }
   ],
   "source": [
    "for n,id_ in tqdm(enumerate(original_ids),total=len(original_ids)):\n",
    "    path=original_path+\"/\"+id_\n",
    "    img = np.load(path)\n",
    "    img = resize(img,(IMG_HEIGHT,IMG_WIDTH),mode=\"constant\",preserve_range=True)\n",
    "    W_test[n]=np.expand_dims(img, axis=2)"
   ]
  },
  {
   "cell_type": "code",
   "execution_count": 45,
   "id": "f9b0f27f",
   "metadata": {},
   "outputs": [
    {
     "name": "stderr",
     "output_type": "stream",
     "text": [
      "100%|████████████████████████████████████████████████████████████████████████████████| 177/177 [00:11<00:00, 15.84it/s]\n"
     ]
    }
   ],
   "source": [
    "for n,id_ in tqdm(enumerate(test_ids),total=len(test_ids)):\n",
    "    path=TEST_PATH+\"/\"+id_\n",
    "    img = np.load(path)\n",
    "    img = resize(img,(IMG_HEIGHT,IMG_WIDTH),mode=\"constant\",preserve_range=True)\n",
    "    X_test[n]=np.expand_dims(img, axis=2)"
   ]
  },
  {
   "cell_type": "code",
   "execution_count": 46,
   "id": "d2bed5d7",
   "metadata": {},
   "outputs": [
    {
     "name": "stderr",
     "output_type": "stream",
     "text": [
      "100%|████████████████████████████████████████████████████████████████████████████████| 177/177 [00:11<00:00, 14.95it/s]\n"
     ]
    }
   ],
   "source": [
    "for n,id_ in tqdm(enumerate(mask_test_ids),total=len(mask_test_ids)):\n",
    "    path=TEST_MASK_PATH+\"/\"+id_\n",
    "    mask = np.load(path)\n",
    "    mask = resize(mask,(IMG_HEIGHT,IMG_WIDTH),mode=\"constant\",preserve_range=True)\n",
    "    Y_test[n]=np.expand_dims(mask, axis=2)"
   ]
  },
  {
   "cell_type": "code",
   "execution_count": 64,
   "id": "ccac7c18",
   "metadata": {},
   "outputs": [],
   "source": [
    "model_with_image_augmentation=tf.keras.models.load_model(\"lungnodule_augmentation.h5\",compile=False)"
   ]
  },
  {
   "cell_type": "code",
   "execution_count": 85,
   "id": "929a04cf",
   "metadata": {},
   "outputs": [
    {
     "name": "stdout",
     "output_type": "stream",
     "text": [
      "1/1 [==============================] - 0s 29ms/step\n",
      "1/1 [==============================] - 0s 29ms/step\n",
      "1/1 [==============================] - 0s 34ms/step\n",
      "1/1 [==============================] - 0s 186ms/step\n",
      "1/1 [==============================] - 0s 30ms/step\n",
      "1/1 [==============================] - 0s 27ms/step\n",
      "1/1 [==============================] - 0s 211ms/step\n",
      "1/1 [==============================] - 0s 33ms/step\n",
      "1/1 [==============================] - 0s 157ms/step\n",
      "1/1 [==============================] - 0s 28ms/step\n",
      "1/1 [==============================] - 0s 231ms/step\n",
      "1/1 [==============================] - 0s 30ms/step\n",
      "1/1 [==============================] - 0s 28ms/step\n",
      "1/1 [==============================] - 0s 27ms/step\n",
      "1/1 [==============================] - 0s 27ms/step\n",
      "1/1 [==============================] - 0s 27ms/step\n",
      "1/1 [==============================] - 0s 27ms/step\n",
      "1/1 [==============================] - 0s 28ms/step\n",
      "1/1 [==============================] - 0s 147ms/step\n",
      "1/1 [==============================] - 0s 31ms/step\n",
      "1/1 [==============================] - 0s 30ms/step\n",
      "1/1 [==============================] - 2s 2s/step\n",
      "1/1 [==============================] - 0s 30ms/step\n",
      "1/1 [==============================] - 0s 31ms/step\n",
      "1/1 [==============================] - 0s 133ms/step\n",
      "1/1 [==============================] - 0s 27ms/step\n",
      "1/1 [==============================] - 2s 2s/step\n",
      "1/1 [==============================] - 0s 29ms/step\n",
      "1/1 [==============================] - 0s 35ms/step\n",
      "1/1 [==============================] - 0s 28ms/step\n",
      "1/1 [==============================] - 0s 28ms/step\n",
      "1/1 [==============================] - 0s 27ms/step\n",
      "1/1 [==============================] - 0s 26ms/step\n",
      "1/1 [==============================] - 0s 26ms/step\n",
      "1/1 [==============================] - 0s 28ms/step\n",
      "1/1 [==============================] - 0s 27ms/step\n",
      "1/1 [==============================] - 0s 29ms/step\n",
      "1/1 [==============================] - 0s 29ms/step\n",
      "1/1 [==============================] - 0s 29ms/step\n",
      "1/1 [==============================] - 2s 2s/step\n",
      "1/1 [==============================] - 0s 56ms/step\n",
      "1/1 [==============================] - 0s 41ms/step\n",
      "1/1 [==============================] - 0s 41ms/step\n",
      "1/1 [==============================] - 0s 28ms/step\n",
      "1/1 [==============================] - 0s 29ms/step\n",
      "1/1 [==============================] - 0s 36ms/step\n",
      "1/1 [==============================] - 0s 34ms/step\n",
      "1/1 [==============================] - 0s 27ms/step\n",
      "1/1 [==============================] - 2s 2s/step\n",
      "1/1 [==============================] - 0s 38ms/step\n",
      "1/1 [==============================] - 0s 28ms/step\n",
      "1/1 [==============================] - 0s 27ms/step\n",
      "1/1 [==============================] - 0s 29ms/step\n",
      "1/1 [==============================] - 0s 29ms/step\n",
      "1/1 [==============================] - 0s 33ms/step\n",
      "1/1 [==============================] - 0s 37ms/step\n",
      "1/1 [==============================] - 0s 27ms/step\n",
      "1/1 [==============================] - 0s 28ms/step\n",
      "1/1 [==============================] - 0s 57ms/step\n",
      "1/1 [==============================] - 0s 29ms/step\n",
      "1/1 [==============================] - 0s 91ms/step\n",
      "1/1 [==============================] - 0s 27ms/step\n",
      "1/1 [==============================] - 0s 28ms/step\n",
      "1/1 [==============================] - 0s 28ms/step\n",
      "1/1 [==============================] - 0s 28ms/step\n",
      "1/1 [==============================] - 0s 125ms/step\n",
      "1/1 [==============================] - 0s 27ms/step\n",
      "1/1 [==============================] - 0s 30ms/step\n",
      "1/1 [==============================] - 2s 2s/step\n",
      "1/1 [==============================] - 0s 36ms/step\n",
      "1/1 [==============================] - 0s 27ms/step\n",
      "1/1 [==============================] - 0s 31ms/step\n",
      "1/1 [==============================] - 0s 28ms/step\n",
      "1/1 [==============================] - 0s 33ms/step\n",
      "1/1 [==============================] - 0s 29ms/step\n",
      "1/1 [==============================] - 0s 27ms/step\n",
      "1/1 [==============================] - 0s 29ms/step\n",
      "1/1 [==============================] - 0s 31ms/step\n",
      "1/1 [==============================] - 0s 29ms/step\n",
      "1/1 [==============================] - 0s 29ms/step\n",
      "1/1 [==============================] - 0s 38ms/step\n",
      "1/1 [==============================] - 0s 35ms/step\n",
      "1/1 [==============================] - 0s 33ms/step\n",
      "1/1 [==============================] - 0s 30ms/step\n",
      "1/1 [==============================] - 0s 32ms/step\n",
      "1/1 [==============================] - 0s 32ms/step\n",
      "1/1 [==============================] - 2s 2s/step\n",
      "1/1 [==============================] - 0s 30ms/step\n",
      "1/1 [==============================] - 0s 31ms/step\n",
      "1/1 [==============================] - 0s 29ms/step\n",
      "1/1 [==============================] - 0s 27ms/step\n",
      "1/1 [==============================] - 0s 27ms/step\n",
      "1/1 [==============================] - 0s 27ms/step\n",
      "1/1 [==============================] - 0s 27ms/step\n",
      "1/1 [==============================] - 0s 28ms/step\n",
      "1/1 [==============================] - 0s 40ms/step\n",
      "1/1 [==============================] - 0s 29ms/step\n",
      "1/1 [==============================] - 0s 30ms/step\n",
      "1/1 [==============================] - 0s 36ms/step\n",
      "1/1 [==============================] - 0s 37ms/step\n",
      "1/1 [==============================] - 0s 38ms/step\n",
      "1/1 [==============================] - 0s 28ms/step\n",
      "1/1 [==============================] - 0s 41ms/step\n",
      "1/1 [==============================] - 0s 47ms/step\n",
      "1/1 [==============================] - 0s 31ms/step\n",
      "1/1 [==============================] - 0s 30ms/step\n",
      "1/1 [==============================] - 0s 32ms/step\n",
      "1/1 [==============================] - 0s 31ms/step\n",
      "1/1 [==============================] - 0s 28ms/step\n",
      "1/1 [==============================] - 0s 36ms/step\n",
      "1/1 [==============================] - 0s 37ms/step\n",
      "1/1 [==============================] - 0s 32ms/step\n",
      "1/1 [==============================] - 0s 30ms/step\n",
      "1/1 [==============================] - 0s 82ms/step\n",
      "1/1 [==============================] - 0s 39ms/step\n",
      "1/1 [==============================] - 0s 59ms/step\n",
      "1/1 [==============================] - 0s 44ms/step\n",
      "1/1 [==============================] - 0s 28ms/step\n",
      "1/1 [==============================] - 0s 36ms/step\n",
      "1/1 [==============================] - 0s 29ms/step\n",
      "1/1 [==============================] - 0s 30ms/step\n",
      "1/1 [==============================] - 0s 30ms/step\n",
      "1/1 [==============================] - 0s 28ms/step\n",
      "1/1 [==============================] - 0s 30ms/step\n",
      "1/1 [==============================] - 0s 30ms/step\n",
      "1/1 [==============================] - 0s 30ms/step\n",
      "1/1 [==============================] - 2s 2s/step\n",
      "1/1 [==============================] - 0s 39ms/step\n",
      "1/1 [==============================] - 0s 33ms/step\n",
      "1/1 [==============================] - 0s 33ms/step\n",
      "1/1 [==============================] - 0s 27ms/step\n",
      "1/1 [==============================] - 0s 25ms/step\n",
      "1/1 [==============================] - 0s 28ms/step\n",
      "1/1 [==============================] - 0s 28ms/step\n",
      "1/1 [==============================] - 0s 32ms/step\n",
      "1/1 [==============================] - 0s 27ms/step\n",
      "1/1 [==============================] - 0s 29ms/step\n",
      "1/1 [==============================] - 0s 62ms/step\n",
      "1/1 [==============================] - 0s 30ms/step\n",
      "1/1 [==============================] - 0s 31ms/step\n",
      "1/1 [==============================] - 0s 35ms/step\n",
      "1/1 [==============================] - 0s 26ms/step\n",
      "1/1 [==============================] - 0s 28ms/step\n",
      "1/1 [==============================] - 0s 29ms/step\n",
      "1/1 [==============================] - 0s 28ms/step\n",
      "1/1 [==============================] - 0s 39ms/step\n",
      "1/1 [==============================] - 0s 31ms/step\n",
      "1/1 [==============================] - 0s 52ms/step\n",
      "1/1 [==============================] - 0s 29ms/step\n",
      "1/1 [==============================] - 0s 30ms/step\n",
      "1/1 [==============================] - 0s 28ms/step\n",
      "1/1 [==============================] - 0s 27ms/step\n",
      "1/1 [==============================] - 0s 29ms/step\n",
      "1/1 [==============================] - 0s 27ms/step\n",
      "1/1 [==============================] - 0s 29ms/step\n",
      "1/1 [==============================] - 0s 36ms/step\n",
      "1/1 [==============================] - 0s 30ms/step\n"
     ]
    },
    {
     "name": "stdout",
     "output_type": "stream",
     "text": [
      "1/1 [==============================] - 0s 45ms/step\n",
      "1/1 [==============================] - 0s 26ms/step\n",
      "1/1 [==============================] - 0s 27ms/step\n",
      "1/1 [==============================] - 0s 27ms/step\n",
      "1/1 [==============================] - 0s 30ms/step\n",
      "1/1 [==============================] - 0s 28ms/step\n",
      "1/1 [==============================] - 0s 25ms/step\n",
      "1/1 [==============================] - 0s 31ms/step\n",
      "1/1 [==============================] - 0s 148ms/step\n",
      "1/1 [==============================] - 0s 28ms/step\n",
      "1/1 [==============================] - 0s 43ms/step\n",
      "1/1 [==============================] - 0s 35ms/step\n",
      "1/1 [==============================] - 0s 32ms/step\n",
      "1/1 [==============================] - 0s 32ms/step\n",
      "1/1 [==============================] - 0s 33ms/step\n",
      "1/1 [==============================] - 0s 35ms/step\n",
      "1/1 [==============================] - 0s 34ms/step\n",
      "1/1 [==============================] - 0s 33ms/step\n",
      "1/1 [==============================] - 0s 33ms/step\n",
      "1/1 [==============================] - 0s 35ms/step\n",
      "Dice score on test dataset is:  71.92690177712345\n"
     ]
    }
   ],
   "source": [
    "overall_dice_score = 0\n",
    "for i in range(0,len(X_test)):  \n",
    "    c = np.expand_dims(X_test[i], axis=0)\n",
    "    y_pred=model_with_image_augmentation.predict(c)\n",
    "    y_pred_thresholded = y_pred > 0.7\n",
    "    d = np.squeeze(y_pred_thresholded, axis=0)\n",
    "    dice_score = (2*(d*Y_test[i]).sum()) / ((d+Y_test[i]).sum() + 1e-12)\n",
    "    overall_dice_score = overall_dice_score + dice_score\n",
    "#     fig = plt.figure(figsize=(15, 15))\n",
    "#     fig.add_subplot(1, 4, 1)\n",
    "#     plt.imshow(W_test[i],cmap='gray')\n",
    "#     plt.title(\"2D slice from CT scan\")\n",
    "#     fig.add_subplot(1, 4, 2)\n",
    "#     plt.imshow(X_test[i],cmap='gray')\n",
    "#     plt.title(\"2D slice after image_preprocssing\")\n",
    "#     fig.add_subplot(1, 4, 3)\n",
    "#     plt.imshow(Y_test[i],cmap='gray')\n",
    "#     plt.title(\"Ground truth mask of nodule\")\n",
    "#     fig.add_subplot(1, 4, 4)\n",
    "#     plt.imshow(d,cmap='gray')\n",
    "#     plt.title(\"Predicted mask of nodule\")\n",
    "    #plt.savefig(\"Evaluated_images/with_augmentation/sample\"+ str(i)+\" \"+'dice_score'+\" \"+str(int(np.ceil(dice_score*100))), bbox_inches='tight')\n",
    "print(\"Dice score on test dataset is: \", overall_dice_score)\n",
    "#plt.savefig('Evaluated_images/vanilla_with_prepreprocess/sample'+ str(i), bbox_inches='tight')   "
   ]
  },
  {
   "cell_type": "code",
   "execution_count": null,
   "id": "ba2fde26",
   "metadata": {},
   "outputs": [],
   "source": []
  },
  {
   "cell_type": "code",
   "execution_count": null,
   "id": "d25b08da",
   "metadata": {},
   "outputs": [],
   "source": []
  }
 ],
 "metadata": {
  "kernelspec": {
   "display_name": "Python 3 (ipykernel)",
   "language": "python",
   "name": "python3"
  },
  "language_info": {
   "codemirror_mode": {
    "name": "ipython",
    "version": 3
   },
   "file_extension": ".py",
   "mimetype": "text/x-python",
   "name": "python",
   "nbconvert_exporter": "python",
   "pygments_lexer": "ipython3",
   "version": "3.9.15"
  }
 },
 "nbformat": 4,
 "nbformat_minor": 5
}
