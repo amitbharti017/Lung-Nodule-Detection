{
 "cells": [
  {
   "cell_type": "code",
   "execution_count": 4,
   "id": "68471c1b",
   "metadata": {},
   "outputs": [],
   "source": [
    "import tensorflow as tf\n",
    "import numpy as np\n",
    "import pandas as pd\n",
    "import matplotlib.pyplot as plt"
   ]
  },
  {
   "cell_type": "code",
   "execution_count": 21,
   "id": "a96f2e00",
   "metadata": {},
   "outputs": [],
   "source": [
    "import cv2\n",
    "from skimage.io import imread,imshow\n",
    "import os\n",
    "import random\n",
    "from tqdm import tqdm\n",
    "from skimage.transform import resize\n",
    "from sklearn.model_selection import train_test_split"
   ]
  },
  {
   "cell_type": "markdown",
   "id": "2adbd34a",
   "metadata": {},
   "source": [
    "## Performance of vanillla model with image preprocessing"
   ]
  },
  {
   "cell_type": "code",
   "execution_count": 127,
   "id": "3f2ab27d",
   "metadata": {},
   "outputs": [],
   "source": [
    "TRAIN_PATH = \"dataset/2d_slices/pre_processed_images/\"\n",
    "TRAIN_MASK_PATH = \"dataset/2d_slices/masks/\""
   ]
  },
  {
   "cell_type": "code",
   "execution_count": 128,
   "id": "069e3e38",
   "metadata": {},
   "outputs": [],
   "source": [
    "original_path = \"dataset/2d_slices/imgs/\""
   ]
  },
  {
   "cell_type": "code",
   "execution_count": 129,
   "id": "812daeae",
   "metadata": {},
   "outputs": [],
   "source": [
    "train_ids = next(os.walk(TRAIN_PATH))[2]\n",
    "mask_train_ids = next(os.walk(TRAIN_MASK_PATH))[2]\n",
    "original_ids = next(os.walk(original_path))[2]"
   ]
  },
  {
   "cell_type": "code",
   "execution_count": 130,
   "id": "1af0efd5",
   "metadata": {},
   "outputs": [],
   "source": [
    "IMG_WIDTH = 512\n",
    "IMG_HEIGHT = 512\n",
    "IMG_CHANNELS = 1"
   ]
  },
  {
   "cell_type": "code",
   "execution_count": 131,
   "id": "6c9b38f0",
   "metadata": {},
   "outputs": [],
   "source": [
    "X = np.zeros((len(train_ids),IMG_HEIGHT,IMG_WIDTH,IMG_CHANNELS),dtype=np.float16)\n",
    "Y=np.zeros((len(mask_train_ids),IMG_HEIGHT,IMG_WIDTH,1),dtype = np.float16)\n",
    "W = np.zeros((len(train_ids),IMG_HEIGHT,IMG_WIDTH,IMG_CHANNELS),dtype=np.float16)"
   ]
  },
  {
   "cell_type": "code",
   "execution_count": 18,
   "id": "525af660",
   "metadata": {},
   "outputs": [
    {
     "name": "stderr",
     "output_type": "stream",
     "text": [
      "100%|██████████████████████████████████████████████████████████████████████████████| 1176/1176 [00:56<00:00, 20.92it/s]\n"
     ]
    }
   ],
   "source": [
    "for n,id_ in tqdm(enumerate(train_ids),total=len(train_ids)):\n",
    "    path=TRAIN_PATH+\"/\"+id_\n",
    "    img = np.load(path)\n",
    "    img = resize(img,(IMG_HEIGHT,IMG_WIDTH),mode=\"constant\",preserve_range=True)\n",
    "    X[n]=np.expand_dims(img, axis=2)"
   ]
  },
  {
   "cell_type": "code",
   "execution_count": 19,
   "id": "5d83efe9",
   "metadata": {},
   "outputs": [
    {
     "name": "stderr",
     "output_type": "stream",
     "text": [
      "100%|██████████████████████████████████████████████████████████████████████████████| 1176/1176 [01:00<00:00, 19.56it/s]\n"
     ]
    }
   ],
   "source": [
    "for n,id_ in tqdm(enumerate(mask_train_ids),total=len(mask_train_ids)):\n",
    "    path=TRAIN_MASK_PATH+\"/\"+id_\n",
    "    mask = np.load(path)\n",
    "    mask = resize(mask,(IMG_HEIGHT,IMG_WIDTH),mode=\"constant\",preserve_range=True)\n",
    "    Y[n]=np.expand_dims(mask, axis=2)"
   ]
  },
  {
   "cell_type": "code",
   "execution_count": 147,
   "id": "aa240c3e",
   "metadata": {},
   "outputs": [
    {
     "name": "stderr",
     "output_type": "stream",
     "text": [
      "100%|██████████████████████████████████████████████████████████████████████████████| 1176/1176 [00:39<00:00, 29.93it/s]\n"
     ]
    }
   ],
   "source": [
    "for n,id_ in tqdm(enumerate(original_ids),total=len(original_ids)):\n",
    "    path=original_path+\"/\"+id_\n",
    "    img = np.load(path)\n",
    "    img = resize(img,(IMG_HEIGHT,IMG_WIDTH),mode=\"constant\",preserve_range=True)\n",
    "    W[n]=np.expand_dims(img, axis=2)"
   ]
  },
  {
   "cell_type": "code",
   "execution_count": 22,
   "id": "97d9a8ac",
   "metadata": {},
   "outputs": [],
   "source": [
    "X_train, X_test, Y_train, Y_test = train_test_split(X, Y, test_size=0.1, random_state=42)"
   ]
  },
  {
   "cell_type": "code",
   "execution_count": 148,
   "id": "9c68e791",
   "metadata": {},
   "outputs": [],
   "source": [
    "W_train, W_test, V_train, V_test = train_test_split(W, Y, test_size=0.1, random_state=42)"
   ]
  },
  {
   "cell_type": "code",
   "execution_count": 24,
   "id": "8b000231",
   "metadata": {},
   "outputs": [],
   "source": [
    "model_with_image_preprocess=tf.keras.models.load_model(\"lungnodule_vanilla_higher_epoch.h5\",compile=False)"
   ]
  },
  {
   "cell_type": "code",
   "execution_count": 200,
   "id": "d9b60db6",
   "metadata": {},
   "outputs": [
    {
     "name": "stdout",
     "output_type": "stream",
     "text": [
      "1/1 [==============================] - 32s 32s/step\n",
      "1/1 [==============================] - 6s 6s/step\n",
      "1/1 [==============================] - 2s 2s/step\n",
      "1/1 [==============================] - 5s 5s/step\n",
      "1/1 [==============================] - 10s 10s/step\n",
      "1/1 [==============================] - 3s 3s/step\n",
      "1/1 [==============================] - 2s 2s/step\n",
      "1/1 [==============================] - 1s 679ms/step\n",
      "1/1 [==============================] - 1s 1s/step\n",
      "1/1 [==============================] - 8s 8s/step\n",
      "1/1 [==============================] - 1s 823ms/step\n",
      "1/1 [==============================] - 1s 1s/step\n",
      "1/1 [==============================] - 2s 2s/step\n",
      "1/1 [==============================] - 5s 5s/step\n",
      "1/1 [==============================] - 1s 853ms/step\n",
      "1/1 [==============================] - 1s 1s/step\n",
      "1/1 [==============================] - 2s 2s/step\n",
      "1/1 [==============================] - 0s 481ms/step\n",
      "1/1 [==============================] - 0s 122ms/step\n",
      "1/1 [==============================] - 0s 50ms/step\n",
      "1/1 [==============================] - 0s 103ms/step\n",
      "1/1 [==============================] - 0s 250ms/step\n",
      "1/1 [==============================] - 0s 272ms/step\n",
      "1/1 [==============================] - 1s 642ms/step\n",
      "1/1 [==============================] - 0s 179ms/step\n",
      "1/1 [==============================] - 0s 150ms/step\n",
      "1/1 [==============================] - 0s 219ms/step\n",
      "1/1 [==============================] - 0s 71ms/step\n",
      "1/1 [==============================] - 0s 105ms/step\n",
      "1/1 [==============================] - 0s 73ms/step\n",
      "1/1 [==============================] - 1s 517ms/step\n",
      "1/1 [==============================] - 1s 1s/step\n",
      "1/1 [==============================] - 3s 3s/step\n",
      "1/1 [==============================] - 1s 896ms/step\n",
      "1/1 [==============================] - 4s 4s/step\n",
      "1/1 [==============================] - 0s 465ms/step\n",
      "1/1 [==============================] - 0s 30ms/step\n",
      "1/1 [==============================] - 1s 1s/step\n",
      "1/1 [==============================] - 1s 1s/step\n",
      "1/1 [==============================] - 0s 31ms/step\n",
      "1/1 [==============================] - 0s 30ms/step\n",
      "1/1 [==============================] - 0s 34ms/step\n",
      "1/1 [==============================] - 0s 431ms/step\n",
      "1/1 [==============================] - 0s 199ms/step\n",
      "1/1 [==============================] - 2s 2s/step\n",
      "1/1 [==============================] - 1s 570ms/step\n",
      "1/1 [==============================] - 0s 129ms/step\n",
      "1/1 [==============================] - 0s 97ms/step\n",
      "1/1 [==============================] - 0s 76ms/step\n",
      "1/1 [==============================] - 2s 2s/step\n",
      "1/1 [==============================] - 0s 126ms/step\n",
      "1/1 [==============================] - 0s 83ms/step\n",
      "1/1 [==============================] - 2s 2s/step\n",
      "1/1 [==============================] - 0s 318ms/step\n",
      "1/1 [==============================] - 0s 193ms/step\n",
      "1/1 [==============================] - 2s 2s/step\n",
      "1/1 [==============================] - 0s 30ms/step\n",
      "1/1 [==============================] - 0s 177ms/step\n",
      "1/1 [==============================] - 0s 51ms/step\n",
      "1/1 [==============================] - 0s 145ms/step\n",
      "1/1 [==============================] - 2s 2s/step\n",
      "1/1 [==============================] - 2s 2s/step\n",
      "1/1 [==============================] - 0s 81ms/step\n",
      "1/1 [==============================] - 0s 205ms/step\n",
      "1/1 [==============================] - 0s 214ms/step\n",
      "1/1 [==============================] - 0s 34ms/step\n",
      "1/1 [==============================] - 0s 117ms/step\n",
      "1/1 [==============================] - 0s 30ms/step\n",
      "1/1 [==============================] - 0s 109ms/step\n",
      "1/1 [==============================] - 0s 164ms/step\n",
      "1/1 [==============================] - 0s 30ms/step\n",
      "1/1 [==============================] - 0s 356ms/step\n",
      "1/1 [==============================] - 0s 331ms/step\n",
      "1/1 [==============================] - 0s 459ms/step\n",
      "1/1 [==============================] - 0s 186ms/step\n",
      "1/1 [==============================] - 0s 293ms/step\n",
      "1/1 [==============================] - 0s 95ms/step\n",
      "1/1 [==============================] - 0s 36ms/step\n",
      "1/1 [==============================] - 0s 155ms/step\n",
      "1/1 [==============================] - 0s 29ms/step\n",
      "1/1 [==============================] - 0s 218ms/step\n",
      "1/1 [==============================] - 1s 1s/step\n",
      "1/1 [==============================] - 0s 194ms/step\n",
      "1/1 [==============================] - 0s 70ms/step\n",
      "1/1 [==============================] - 0s 189ms/step\n",
      "1/1 [==============================] - 0s 32ms/step\n",
      "1/1 [==============================] - 0s 31ms/step\n",
      "1/1 [==============================] - 0s 32ms/step\n",
      "1/1 [==============================] - 0s 362ms/step\n",
      "1/1 [==============================] - 1s 623ms/step\n",
      "1/1 [==============================] - 0s 29ms/step\n",
      "1/1 [==============================] - 0s 32ms/step\n",
      "1/1 [==============================] - 0s 401ms/step\n",
      "1/1 [==============================] - 0s 153ms/step\n",
      "1/1 [==============================] - 0s 208ms/step\n",
      "1/1 [==============================] - 0s 33ms/step\n",
      "1/1 [==============================] - 0s 208ms/step\n",
      "1/1 [==============================] - 0s 61ms/step\n",
      "1/1 [==============================] - 0s 68ms/step\n",
      "1/1 [==============================] - 0s 88ms/step\n",
      "1/1 [==============================] - 0s 60ms/step\n",
      "1/1 [==============================] - 0s 76ms/step\n",
      "1/1 [==============================] - 0s 320ms/step\n",
      "1/1 [==============================] - 0s 170ms/step\n",
      "1/1 [==============================] - 0s 30ms/step\n",
      "1/1 [==============================] - 0s 32ms/step\n",
      "1/1 [==============================] - 0s 30ms/step\n",
      "1/1 [==============================] - 0s 31ms/step\n",
      "1/1 [==============================] - 0s 40ms/step\n",
      "1/1 [==============================] - 0s 163ms/step\n",
      "1/1 [==============================] - 0s 87ms/step\n",
      "1/1 [==============================] - 0s 99ms/step\n",
      "1/1 [==============================] - 0s 130ms/step\n",
      "1/1 [==============================] - 0s 75ms/step\n",
      "1/1 [==============================] - 0s 42ms/step\n",
      "1/1 [==============================] - 0s 177ms/step\n",
      "1/1 [==============================] - 0s 118ms/step\n",
      "1/1 [==============================] - 0s 96ms/step\n",
      "Dice score on test dataset is:  49.43799550416613\n"
     ]
    }
   ],
   "source": [
    "overall_dice_score = 0\n",
    "for i in range(0,len(X_test)):  \n",
    "    c = np.expand_dims(X_test[i], axis=0)\n",
    "    y_pred=model_with_image_preprocess.predict(c)\n",
    "    y_pred_thresholded = y_pred > 0.7\n",
    "    d = np.squeeze(y_pred_thresholded, axis=0)\n",
    "    dice_score = (2*(d*Y_test[i]).sum()) / ((d+Y_test[i]).sum() + 1e-12)\n",
    "    overall_dice_score = overall_dice_score + dice_score\n",
    "#     fig = plt.figure(figsize=(15, 15))\n",
    "#     fig.add_subplot(1, 4, 1)\n",
    "#     plt.imshow(W_test[i],cmap='gray')\n",
    "#     plt.title(\"2D slice from CT scan\")\n",
    "#     fig.add_subplot(1, 4, 2)\n",
    "#     plt.imshow(X_test[i],cmap='gray')\n",
    "#     plt.title(\"2D slice after image processing\")\n",
    "#     fig.add_subplot(1, 4, 3)\n",
    "#     plt.imshow(Y_test[i],cmap='gray')\n",
    "#     plt.title(\"Ground truth mask of nodule\")\n",
    "#     fig.add_subplot(1, 4, 4)\n",
    "#     plt.imshow(d,cmap='gray')\n",
    "#     plt.title(\"Predicted mask of nodule\")\n",
    "    #plt.savefig(\"Evaluated_images/with_prepreprocess/sample\"+ str(i)+\" \"+'dice_score'+\" \"+str(int(np.ceil(dice_score*100))), bbox_inches='tight')\n",
    "print(\"Dice score on test dataset is: \", overall_dice_score)\n",
    "#plt.savefig('Evaluated_images/vanilla_with_prepreprocess/sample'+ str(i), bbox_inches='tight')   "
   ]
  },
  {
   "cell_type": "code",
   "execution_count": null,
   "id": "b98a00f3",
   "metadata": {},
   "outputs": [],
   "source": []
  }
 ],
 "metadata": {
  "kernelspec": {
   "display_name": "Python 3 (ipykernel)",
   "language": "python",
   "name": "python3"
  },
  "language_info": {
   "codemirror_mode": {
    "name": "ipython",
    "version": 3
   },
   "file_extension": ".py",
   "mimetype": "text/x-python",
   "name": "python",
   "nbconvert_exporter": "python",
   "pygments_lexer": "ipython3",
   "version": "3.9.15"
  }
 },
 "nbformat": 4,
 "nbformat_minor": 5
}
